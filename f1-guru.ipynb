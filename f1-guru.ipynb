{
 "cells": [
  {
   "cell_type": "markdown",
   "metadata": {},
   "source": [
    "# Проект F1-guru. Предсказание результатов гонок формулы-1 с помощью методов машинного обучения."
   ]
  },
  {
   "cell_type": "markdown",
   "metadata": {},
   "source": [
    "## Цель проекта:"
   ]
  },
  {
   "cell_type": "markdown",
   "metadata": {},
   "source": [
    "Научиться предсказывать спортивные результаты с помощью методов машинного обучения на примере Формулы-1."
   ]
  },
  {
   "cell_type": "markdown",
   "metadata": {},
   "source": [
    "## Данные которые необходимо собрать, чтобы получить правильные прогнозы:"
   ]
  },
  {
   "cell_type": "markdown",
   "metadata": {},
   "source": [
    "### Для того, чтобы сделать оптимальный прогноз надо построить следующие 2 модели на основе данных из открытых источников:"
   ]
  },
  {
   "cell_type": "markdown",
   "metadata": {},
   "source": [
    "### 1. Основная модель, которая будет делать предсказания на каждую гонку чемпионата для каждого гонщика. Для этого надо проанализировать результаты гонок, чтобы понимать на какой трассе у кого и за счет чего может быть преимущество. Для этого выделим следующие признаки:"
   ]
  },
  {
   "cell_type": "markdown",
   "metadata": {},
   "source": [
    "1. number - Номер этапа в календаре чемпионата\n",
    "2. year - Год проведения\n",
    "3. track - Название трассы\n",
    "4. driver - Имя/фамилия гонщика\n",
    "5. <b>finish_position</b> - Позиция на финише (целевая переменная)\n",
    "6. start_position - Стартовая позиция\n",
    "8. average_speed - Средняя скорость\n",
    "9. lag_from_the_leader - Отставание по средней скорости относительно лидера\n",
    "10. lag_from_the_next - Отставание по средней скорости относительно предыдущего\n",
    "11. team - Название команды\n",
    "12. weather - Погода во время гонки (пока только 3 значения: сухо, дождь или то и другое)\n",
    "13. laps - Количество кругов\n",
    "13. engine - Поставщих двигателей\n",
    "14. budget - Бюджет команды на сезон\n",
    "15. team_leader - Руководитель команды\n",
    "16. technical_director - Технический директор команды\n",
    "17. is_factory_team - Является ли команда официальным представителем поставщика двигателей или нет\n",
    "19. strength - Коэфициент силы команды, регрессия от 0 до 1 (определяется по результатам зимних тестов на первые 3 гонки (на случай серии неудач для сильных гонщиков) и далее корректируется по средней позиции после каждого этапа в сезоне)"
   ]
  },
  {
   "cell_type": "markdown",
   "metadata": {},
   "source": [
    "### 2. Дополнительная модель, для корректного предсказания признака strength_prediction по результатам зимних тестов. Для этого выделим следующие признаки:"
   ]
  },
  {
   "cell_type": "markdown",
   "metadata": {},
   "source": [
    "1. day - Номер тестового дня в тестовом календаре\n",
    "2. year - Год проведения\n",
    "3. track - Название трассы\n",
    "4. position - Позиция по итогам тестового дня\n",
    "5. time - Лучший круг в течении тестового дня\n",
    "6. laps - Общее количество кругов за день\n",
    "7. tyres - Тип резины на котором был показан лучший круг\n",
    "8. team - Название команды\n",
    "9. engine - Поставщих двигателей\n",
    "10. budget - Бюджет команды на сезон\n",
    "11. team_leader - Имя/фамилия руководителя команды\n",
    "12. technical_director - Имя/фамилия технического директора команды\n",
    "13. is_factory_team - Является ли команда официальным представителем поставщика двигателей или нет\n",
    "14. <b>strength</b> - Целевая переменная (для того, чтобы отобразить соотношение силы команд за этот год, будем брать количество очков в конце сезона и нормализуем их от 0 до 1)"
   ]
  },
  {
   "cell_type": "markdown",
   "metadata": {},
   "source": [
    "## Какой объем данных необходимо собрать, чтобы получить правильные прогнозы:"
   ]
  },
  {
   "cell_type": "markdown",
   "metadata": {},
   "source": [
    "Для того, чтобы создать полноценную тренировочную модель, нам понадобятся данные за последние 4 года (с момента начала действия нового технического регламента), т.е. за 2014-2017 год."
   ]
  },
  {
   "cell_type": "markdown",
   "metadata": {},
   "source": [
    "## Откуда будем брать данные:"
   ]
  },
  {
   "cell_type": "markdown",
   "metadata": {},
   "source": [
    "### На текущий момент, существует довольно много сайтов, откуда можно брать результаты гонок, поэтому основное требование к источнику данных - регулярное обновление и возможность собрать как можно больше данных в автоматизированном режиме. На текущий момент, полностью удовлетворяет таким условиям сайт f1news.ru."
   ]
  },
  {
   "cell_type": "markdown",
   "metadata": {},
   "source": [
    "### Результаты гонок:"
   ]
  },
  {
   "cell_type": "markdown",
   "metadata": {},
   "source": [
    "2014 - https://www.f1news.ru/Championship/2014/<br />\n",
    "2015 - https://www.f1news.ru/Championship/2015/<br />\n",
    "2016 - https://www.f1news.ru/Championship/2016/<br />\n",
    "2017 - https://www.f1news.ru/Championship/2017/<br />\n",
    "2018 - https://www.f1news.ru/Championship/2018/<br />"
   ]
  },
  {
   "cell_type": "markdown",
   "metadata": {},
   "source": [
    "#### Также есть еще хороший сайт https://wildsoft.motorsport.com/gp.php?y=2017, но результаты там не всегда актуально обновляются, чтобы расчитывать на этот источник информации для поддержания точности модели по ходу сезона."
   ]
  },
  {
   "cell_type": "markdown",
   "metadata": {},
   "source": [
    "### Результаты тестов:"
   ]
  },
  {
   "cell_type": "markdown",
   "metadata": {},
   "source": [
    "#### Для 2018 года\n",
    "https://www.f1news.ru/Championship/2018/tests/127142.shtml<br />\n",
    "https://www.f1news.ru/Championship/2018/tests/127171.shtml<br />\n",
    "https://www.f1news.ru/Championship/2018/tests/127211.shtml<br />\n",
    "https://www.f1news.ru/Championship/2018/tests/127236.shtml<br />\n",
    "https://www.f1news.ru/Championship/2018/tests/127333.shtml<br />\n",
    "https://www.f1news.ru/Championship/2018/tests/127370.shtml<br />\n",
    "https://www.f1news.ru/Championship/2018/tests/127402.shtml<br />\n",
    "https://www.f1news.ru/Championship/2018/tests/127438.shtml<br />\n",
    "\n",
    "#### Для 2017 года\n",
    "https://www.f1news.ru/Championship/2017/tests/118950.shtml<br />\n",
    "https://www.f1news.ru/Championship/2017/tests/119022.shtml<br />\n",
    "https://www.f1news.ru/Championship/2017/tests/119147.shtml<br />\n",
    "\n",
    "#### Для 2016 года\n",
    "https://www.f1news.ru/Championship/2016/tests/110193.shtml<br />\n",
    "https://www.f1news.ru/Championship/2016/tests/110425.shtml<br />\n",
    "\n",
    "#### Для сезонов 2014-2015 и части сезона 2016 года нет данных по типу шин в достаточном количество, поэтому придется обойтись без этого признака...\n",
    "\n",
    "#### Для 2015 года\n",
    "https://www.f1news.ru/Championship/2015/tests/100942.shtml<br />\n",
    "https://www.f1news.ru/Championship/2015/tests/101278.shtml<br />\n",
    "https://www.f1news.ru/Championship/2015/tests/101460.shtml<br />\n",
    "\n",
    "#### Для 2014 года\n",
    "https://www.f1news.ru/Championship/2014/tests/91918.shtml<br />\n",
    "https://www.f1news.ru/Championship/2014/tests/92316.shtml<br />\n",
    "https://www.f1news.ru/Championship/2014/tests/92545.shtml<br />"
   ]
  },
  {
   "cell_type": "markdown",
   "metadata": {},
   "source": [
    "### Результаты прошедших чемпионатов можно получить здесь:\n",
    "2014 - https://www.f1news.ru/Championship/2014/teampoints.shtml<br />\n",
    "2015 - https://www.f1news.ru/Championship/2015/teampoints.shtml<br />\n",
    "2016 - https://www.f1news.ru/Championship/2016/teampoints.shtml<br />\n",
    "2017 - https://www.f1news.ru/Championship/2017/teampoints.shtml"
   ]
  },
  {
   "cell_type": "markdown",
   "metadata": {},
   "source": [
    "### Некоторые данные, проще всего собрать вручную, так как они, преимущественно, основываясь на знании предметной области и не содержат большой объем данных:"
   ]
  },
  {
   "cell_type": "markdown",
   "metadata": {},
   "source": [
    "1. Руководитель команды\n",
    "2. Технический директор команды\n",
    "3. Является ли команда официальным представителем поставщика двигателей\n",
    "4. Бюджет команды\n",
    "\n",
    "#### Если с первыми тремя пунктами больших проблем нет, то бюджет команды официально он нигде не публикуется, но раз в год выходят несколько статей, посвященные этому вопросу, главное, чтобы валюта совпадала:\n",
    "2014 - https://infogram.com/team-f1-2014-1g6qo2qo6n3ym78<br />\n",
    "2015 - http://autosport.com.ru/node/28591<br />\n",
    "2016 - http://autosport.com.ru/features/39209-skolko-komandy-formuly-1-potratili-v-sezone-2016<br />\n",
    "2017 - http://ean.news/2017/09/12/f1budg/<br />\n",
    "2018 - http://scuderiafans.com/budgets-for-the-formula-1-teams-in-2018-according-to-auto-bild/<br />\n",
    "\n",
    "#### Поставщика двигателей и позиции руководителя команды и технического директора, можно также найти на специализированных сайтах типа, а также основываясь на знаниях экспертов предметной области:\n",
    "https://www.f1news.ru/Championship/2018/drivers.shtml<br />\n",
    "https://www.f1news.ru/Championship/2017/drivers.shtml<br />\n",
    "https://www.f1news.ru/Championship/2016/drivers.shtml<br />\n",
    "https://www.f1news.ru/Championship/2015/drivers.shtml<br />\n",
    "https://www.f1news.ru/Championship/2014/drivers.shtml"
   ]
  },
  {
   "cell_type": "markdown",
   "metadata": {
    "collapsed": true
   },
   "source": [
    "## Сгенерируем датасеты:"
   ]
  },
  {
   "cell_type": "markdown",
   "metadata": {},
   "source": [
    "Специально для проекта была создана система, которая автоматически загрузит все необходимы данные и подготовит датасеты."
   ]
  },
  {
   "cell_type": "code",
   "execution_count": 265,
   "metadata": {},
   "outputs": [
    {
     "name": "stdout",
     "output_type": "stream",
     "text": [
      "INFO:__main__:Start building data set...\n",
      "INFO:__main__:Finish building data set\n"
     ]
    }
   ],
   "source": [
    "!python3 main.py"
   ]
  },
  {
   "cell_type": "code",
   "execution_count": 266,
   "metadata": {},
   "outputs": [
    {
     "name": "stdout",
     "output_type": "stream",
     "text": [
      "Populating the interactive namespace from numpy and matplotlib\n"
     ]
    }
   ],
   "source": [
    "import pandas as pd\n",
    "import numpy as np\n",
    "from matplotlib import pyplot as plt, style\n",
    "import os\n",
    "\n",
    "style.use('ggplot')\n",
    "%pylab inline\n",
    "\n",
    "STORAGE_PATH = os.path.abspath('storage')"
   ]
  },
  {
   "cell_type": "code",
   "execution_count": 267,
   "metadata": {},
   "outputs": [
    {
     "data": {
      "text/plain": [
       "'/Users/andrewlarin/PycharmProjects/f1-guru/storage'"
      ]
     },
     "execution_count": 267,
     "metadata": {},
     "output_type": "execute_result"
    }
   ],
   "source": [
    "STORAGE_PATH"
   ]
  },
  {
   "cell_type": "markdown",
   "metadata": {},
   "source": [
    "#### Результаты тестов 2014-2017"
   ]
  },
  {
   "cell_type": "code",
   "execution_count": 268,
   "metadata": {},
   "outputs": [],
   "source": [
    "df_testing = pd.read_csv(os.path.join(STORAGE_PATH, 'testing-data-2014-2017.csv'))"
   ]
  },
  {
   "cell_type": "code",
   "execution_count": 269,
   "metadata": {},
   "outputs": [
    {
     "data": {
      "text/plain": [
       "(393, 9)"
      ]
     },
     "execution_count": 269,
     "metadata": {},
     "output_type": "execute_result"
    }
   ],
   "source": [
    "df_testing.shape"
   ]
  },
  {
   "cell_type": "code",
   "execution_count": 313,
   "metadata": {},
   "outputs": [
    {
     "name": "stdout",
     "output_type": "stream",
     "text": [
      "<class 'pandas.core.frame.DataFrame'>\n",
      "RangeIndex: 393 entries, 0 to 392\n",
      "Data columns (total 9 columns):\n",
      "day         393 non-null int64\n",
      "year        393 non-null int64\n",
      "track       393 non-null object\n",
      "position    393 non-null int64\n",
      "time        378 non-null object\n",
      "laps        393 non-null int64\n",
      "tyres       157 non-null object\n",
      "team        393 non-null object\n",
      "points      393 non-null float64\n",
      "dtypes: float64(1), int64(4), object(4)\n",
      "memory usage: 27.7+ KB\n"
     ]
    }
   ],
   "source": [
    "df_testing.info()"
   ]
  },
  {
   "cell_type": "markdown",
   "metadata": {},
   "source": [
    "#### Описание признаков:"
   ]
  },
  {
   "cell_type": "markdown",
   "metadata": {},
   "source": [
    "1. day - Номер тестового дня в тестовом календаре\n",
    "2. year - Год проведения\n",
    "3. track - Название трассы\n",
    "4. position - Позиция по итогам тестового дня\n",
    "5. time - Лучший круг в течении тестового дня\n",
    "6. laps - Общее количество кругов за день\n",
    "7. tyres - Тип резины на котором был показан лучший круг\n",
    "8. team - Название команды\n",
    "9. points -  Количество очков в чемпионате в этом сезоне"
   ]
  },
  {
   "cell_type": "code",
   "execution_count": 314,
   "metadata": {
    "scrolled": true
   },
   "outputs": [
    {
     "data": {
      "text/html": [
       "<div>\n",
       "<style>\n",
       "    .dataframe thead tr:only-child th {\n",
       "        text-align: right;\n",
       "    }\n",
       "\n",
       "    .dataframe thead th {\n",
       "        text-align: left;\n",
       "    }\n",
       "\n",
       "    .dataframe tbody tr th {\n",
       "        vertical-align: top;\n",
       "    }\n",
       "</style>\n",
       "<table border=\"1\" class=\"dataframe\">\n",
       "  <thead>\n",
       "    <tr style=\"text-align: right;\">\n",
       "      <th></th>\n",
       "      <th>day</th>\n",
       "      <th>year</th>\n",
       "      <th>track</th>\n",
       "      <th>position</th>\n",
       "      <th>time</th>\n",
       "      <th>laps</th>\n",
       "      <th>tyres</th>\n",
       "      <th>team</th>\n",
       "      <th>points</th>\n",
       "    </tr>\n",
       "  </thead>\n",
       "  <tbody>\n",
       "    <tr>\n",
       "      <th>0</th>\n",
       "      <td>1</td>\n",
       "      <td>2014</td>\n",
       "      <td>Херес</td>\n",
       "      <td>1</td>\n",
       "      <td>1.27.104</td>\n",
       "      <td>31</td>\n",
       "      <td>NaN</td>\n",
       "      <td>Ferrari</td>\n",
       "      <td>216.0</td>\n",
       "    </tr>\n",
       "    <tr>\n",
       "      <th>1</th>\n",
       "      <td>1</td>\n",
       "      <td>2014</td>\n",
       "      <td>Херес</td>\n",
       "      <td>2</td>\n",
       "      <td>1.27.820</td>\n",
       "      <td>18</td>\n",
       "      <td>NaN</td>\n",
       "      <td>Mercedes</td>\n",
       "      <td>701.0</td>\n",
       "    </tr>\n",
       "    <tr>\n",
       "      <th>2</th>\n",
       "      <td>1</td>\n",
       "      <td>2014</td>\n",
       "      <td>Херес</td>\n",
       "      <td>3</td>\n",
       "      <td>1.30.082</td>\n",
       "      <td>7</td>\n",
       "      <td>NaN</td>\n",
       "      <td>Williams</td>\n",
       "      <td>320.0</td>\n",
       "    </tr>\n",
       "    <tr>\n",
       "      <th>3</th>\n",
       "      <td>1</td>\n",
       "      <td>2014</td>\n",
       "      <td>Херес</td>\n",
       "      <td>4</td>\n",
       "      <td>1.33.161</td>\n",
       "      <td>11</td>\n",
       "      <td>NaN</td>\n",
       "      <td>Force India</td>\n",
       "      <td>155.0</td>\n",
       "    </tr>\n",
       "    <tr>\n",
       "      <th>4</th>\n",
       "      <td>1</td>\n",
       "      <td>2014</td>\n",
       "      <td>Херес</td>\n",
       "      <td>5</td>\n",
       "      <td>1.36.530</td>\n",
       "      <td>15</td>\n",
       "      <td>NaN</td>\n",
       "      <td>Toro Rosso</td>\n",
       "      <td>30.0</td>\n",
       "    </tr>\n",
       "  </tbody>\n",
       "</table>\n",
       "</div>"
      ],
      "text/plain": [
       "   day  year  track  position      time  laps tyres         team  points\n",
       "0    1  2014  Херес         1  1.27.104    31   NaN      Ferrari   216.0\n",
       "1    1  2014  Херес         2  1.27.820    18   NaN     Mercedes   701.0\n",
       "2    1  2014  Херес         3  1.30.082     7   NaN     Williams   320.0\n",
       "3    1  2014  Херес         4  1.33.161    11   NaN  Force India   155.0\n",
       "4    1  2014  Херес         5  1.36.530    15   NaN   Toro Rosso    30.0"
      ]
     },
     "execution_count": 314,
     "metadata": {},
     "output_type": "execute_result"
    }
   ],
   "source": [
    "df_testing.head()"
   ]
  },
  {
   "cell_type": "markdown",
   "metadata": {},
   "source": [
    "Как видно, у нас много пропущенных значений типа резины, а также пропущено несколько результатов."
   ]
  },
  {
   "cell_type": "markdown",
   "metadata": {},
   "source": [
    "#### Результаты гонок 2014-2017"
   ]
  },
  {
   "cell_type": "code",
   "execution_count": 315,
   "metadata": {
    "collapsed": true
   },
   "outputs": [],
   "source": [
    "df_racing = pd.read_csv(os.path.join(STORAGE_PATH, 'racing-data-2014-2017.csv'))"
   ]
  },
  {
   "cell_type": "code",
   "execution_count": 316,
   "metadata": {},
   "outputs": [
    {
     "data": {
      "text/plain": [
       "(1653, 14)"
      ]
     },
     "execution_count": 316,
     "metadata": {},
     "output_type": "execute_result"
    }
   ],
   "source": [
    "df_racing.shape"
   ]
  },
  {
   "cell_type": "code",
   "execution_count": 317,
   "metadata": {
    "scrolled": true
   },
   "outputs": [
    {
     "name": "stdout",
     "output_type": "stream",
     "text": [
      "<class 'pandas.core.frame.DataFrame'>\n",
      "RangeIndex: 1653 entries, 0 to 1652\n",
      "Data columns (total 14 columns):\n",
      "number                     1653 non-null int64\n",
      "year                       1653 non-null int64\n",
      "track                      1653 non-null object\n",
      "driver                     1653 non-null object\n",
      "finish_position            1653 non-null int64\n",
      "start_position             1628 non-null float64\n",
      "average_finish_position    1653 non-null float64\n",
      "average_speed              1329 non-null float64\n",
      "lag_from_the_leader        1329 non-null float64\n",
      "lag_from_the_next          1329 non-null float64\n",
      "team                       1653 non-null object\n",
      "weather                    1653 non-null object\n",
      "laps                       1653 non-null int64\n",
      "points                     1653 non-null int64\n",
      "dtypes: float64(5), int64(5), object(4)\n",
      "memory usage: 180.9+ KB\n"
     ]
    }
   ],
   "source": [
    "df_racing.info()"
   ]
  },
  {
   "cell_type": "markdown",
   "metadata": {},
   "source": [
    "#### Описание признаков:"
   ]
  },
  {
   "cell_type": "markdown",
   "metadata": {},
   "source": [
    "1. number - Номер этапа в календаре чемпионата\n",
    "2. year - Год проведения\n",
    "3. track - Название трассы\n",
    "4. driver - Имя/фамилия гонщика\n",
    "5. finish_position - Позиция на финише\n",
    "6. start_position - Стартовая позиция\n",
    "7. average_finish_position - Средняя позиция на финише гонки\n",
    "8. average_speed - Средняя скорость\n",
    "9. lag_from_the_leader - Отставание по средней скорости относительно лидера\n",
    "10. lag_from_the_next - Отставание по средней скорости относительно предыдущего\n",
    "11. team - Название команды\n",
    "12. weather - Погода во время гонки (пока только 3 значения: сухо, дождь или то и другое)\n",
    "13. laps - Количество кругов\n",
    "14. points - Количество очков в чемпионате после текущего этапа"
   ]
  },
  {
   "cell_type": "code",
   "execution_count": 318,
   "metadata": {
    "scrolled": false
   },
   "outputs": [
    {
     "data": {
      "text/html": [
       "<div>\n",
       "<style>\n",
       "    .dataframe thead tr:only-child th {\n",
       "        text-align: right;\n",
       "    }\n",
       "\n",
       "    .dataframe thead th {\n",
       "        text-align: left;\n",
       "    }\n",
       "\n",
       "    .dataframe tbody tr th {\n",
       "        vertical-align: top;\n",
       "    }\n",
       "</style>\n",
       "<table border=\"1\" class=\"dataframe\">\n",
       "  <thead>\n",
       "    <tr style=\"text-align: right;\">\n",
       "      <th></th>\n",
       "      <th>number</th>\n",
       "      <th>year</th>\n",
       "      <th>track</th>\n",
       "      <th>driver</th>\n",
       "      <th>finish_position</th>\n",
       "      <th>start_position</th>\n",
       "      <th>average_finish_position</th>\n",
       "      <th>average_speed</th>\n",
       "      <th>lag_from_the_leader</th>\n",
       "      <th>lag_from_the_next</th>\n",
       "      <th>team</th>\n",
       "      <th>weather</th>\n",
       "      <th>laps</th>\n",
       "      <th>points</th>\n",
       "    </tr>\n",
       "  </thead>\n",
       "  <tbody>\n",
       "    <tr>\n",
       "      <th>0</th>\n",
       "      <td>1</td>\n",
       "      <td>2014</td>\n",
       "      <td>Мельбурн</td>\n",
       "      <td>Росберг</td>\n",
       "      <td>1</td>\n",
       "      <td>3.0</td>\n",
       "      <td>1.0</td>\n",
       "      <td>195.058</td>\n",
       "      <td>0.000</td>\n",
       "      <td>0.000</td>\n",
       "      <td>Mercedes</td>\n",
       "      <td>Сухо</td>\n",
       "      <td>57</td>\n",
       "      <td>25</td>\n",
       "    </tr>\n",
       "    <tr>\n",
       "      <th>1</th>\n",
       "      <td>1</td>\n",
       "      <td>2014</td>\n",
       "      <td>Мельбурн</td>\n",
       "      <td>Магнуссен</td>\n",
       "      <td>3</td>\n",
       "      <td>4.0</td>\n",
       "      <td>3.0</td>\n",
       "      <td>194.126</td>\n",
       "      <td>0.932</td>\n",
       "      <td>0.932</td>\n",
       "      <td>McLaren</td>\n",
       "      <td>Сухо</td>\n",
       "      <td>57</td>\n",
       "      <td>18</td>\n",
       "    </tr>\n",
       "    <tr>\n",
       "      <th>2</th>\n",
       "      <td>1</td>\n",
       "      <td>2014</td>\n",
       "      <td>Мельбурн</td>\n",
       "      <td>Баттон</td>\n",
       "      <td>4</td>\n",
       "      <td>10.0</td>\n",
       "      <td>4.0</td>\n",
       "      <td>194.014</td>\n",
       "      <td>1.044</td>\n",
       "      <td>0.112</td>\n",
       "      <td>McLaren</td>\n",
       "      <td>Сухо</td>\n",
       "      <td>57</td>\n",
       "      <td>15</td>\n",
       "    </tr>\n",
       "    <tr>\n",
       "      <th>3</th>\n",
       "      <td>1</td>\n",
       "      <td>2014</td>\n",
       "      <td>Мельбурн</td>\n",
       "      <td>Алонсо</td>\n",
       "      <td>5</td>\n",
       "      <td>5.0</td>\n",
       "      <td>5.0</td>\n",
       "      <td>193.832</td>\n",
       "      <td>1.226</td>\n",
       "      <td>0.182</td>\n",
       "      <td>Ferrari</td>\n",
       "      <td>Сухо</td>\n",
       "      <td>57</td>\n",
       "      <td>12</td>\n",
       "    </tr>\n",
       "    <tr>\n",
       "      <th>4</th>\n",
       "      <td>1</td>\n",
       "      <td>2014</td>\n",
       "      <td>Мельбурн</td>\n",
       "      <td>Боттас</td>\n",
       "      <td>6</td>\n",
       "      <td>15.0</td>\n",
       "      <td>6.0</td>\n",
       "      <td>193.407</td>\n",
       "      <td>1.651</td>\n",
       "      <td>0.425</td>\n",
       "      <td>Williams</td>\n",
       "      <td>Сухо</td>\n",
       "      <td>57</td>\n",
       "      <td>10</td>\n",
       "    </tr>\n",
       "  </tbody>\n",
       "</table>\n",
       "</div>"
      ],
      "text/plain": [
       "   number  year     track     driver  finish_position  start_position  \\\n",
       "0       1  2014  Мельбурн    Росберг                1             3.0   \n",
       "1       1  2014  Мельбурн  Магнуссен                3             4.0   \n",
       "2       1  2014  Мельбурн     Баттон                4            10.0   \n",
       "3       1  2014  Мельбурн     Алонсо                5             5.0   \n",
       "4       1  2014  Мельбурн     Боттас                6            15.0   \n",
       "\n",
       "   average_finish_position  average_speed  lag_from_the_leader  \\\n",
       "0                      1.0        195.058                0.000   \n",
       "1                      3.0        194.126                0.932   \n",
       "2                      4.0        194.014                1.044   \n",
       "3                      5.0        193.832                1.226   \n",
       "4                      6.0        193.407                1.651   \n",
       "\n",
       "   lag_from_the_next      team weather  laps  points  \n",
       "0              0.000  Mercedes    Сухо    57      25  \n",
       "1              0.932   McLaren    Сухо    57      18  \n",
       "2              0.112   McLaren    Сухо    57      15  \n",
       "3              0.182   Ferrari    Сухо    57      12  \n",
       "4              0.425  Williams    Сухо    57      10  "
      ]
     },
     "execution_count": 318,
     "metadata": {},
     "output_type": "execute_result"
    }
   ],
   "source": [
    "df_racing.head()"
   ]
  },
  {
   "cell_type": "markdown",
   "metadata": {},
   "source": [
    "Видно, что не у всех гонщиков имеются результаты в квалификации (возможен старт с пит-лейн и прочее), а также отставания по средней скорости (что не удивительно, учитывая, что мы не считаем среднюю скорость для сошедших гонщиков)."
   ]
  },
  {
   "cell_type": "markdown",
   "metadata": {},
   "source": [
    "#### Дополнительная информация о командах 2014-2017"
   ]
  },
  {
   "cell_type": "code",
   "execution_count": 319,
   "metadata": {
    "collapsed": true
   },
   "outputs": [],
   "source": [
    "df_teams = pd.read_csv(os.path.join(STORAGE_PATH, 'team-data-2014-2017.csv'))"
   ]
  },
  {
   "cell_type": "code",
   "execution_count": 320,
   "metadata": {
    "scrolled": true
   },
   "outputs": [
    {
     "name": "stdout",
     "output_type": "stream",
     "text": [
      "<class 'pandas.core.frame.DataFrame'>\n",
      "RangeIndex: 42 entries, 0 to 41\n",
      "Data columns (total 7 columns):\n",
      "team                  42 non-null object\n",
      "engine                42 non-null object\n",
      "team_leader           42 non-null object\n",
      "technical_director    42 non-null object\n",
      "budget                42 non-null float64\n",
      "is_factory_team       42 non-null int64\n",
      "year                  42 non-null int64\n",
      "dtypes: float64(1), int64(2), object(4)\n",
      "memory usage: 2.4+ KB\n"
     ]
    }
   ],
   "source": [
    "df_teams.info()"
   ]
  },
  {
   "cell_type": "markdown",
   "metadata": {},
   "source": [
    "1. team - Название команды\n",
    "2. engine - Поставщих двигателей\n",
    "3. team_leader - Руководитель команды\n",
    "4. technical_director - Технический директор команды\n",
    "5. budget - Бюджет команды на сезон\n",
    "6. is_factory_team - Является ли команда официальным представителем поставщика двигателей или нет\n",
    "7. year - Год проведения чемпионата"
   ]
  },
  {
   "cell_type": "code",
   "execution_count": 321,
   "metadata": {},
   "outputs": [
    {
     "data": {
      "text/html": [
       "<div>\n",
       "<style>\n",
       "    .dataframe thead tr:only-child th {\n",
       "        text-align: right;\n",
       "    }\n",
       "\n",
       "    .dataframe thead th {\n",
       "        text-align: left;\n",
       "    }\n",
       "\n",
       "    .dataframe tbody tr th {\n",
       "        vertical-align: top;\n",
       "    }\n",
       "</style>\n",
       "<table border=\"1\" class=\"dataframe\">\n",
       "  <thead>\n",
       "    <tr style=\"text-align: right;\">\n",
       "      <th></th>\n",
       "      <th>team</th>\n",
       "      <th>engine</th>\n",
       "      <th>team_leader</th>\n",
       "      <th>technical_director</th>\n",
       "      <th>budget</th>\n",
       "      <th>is_factory_team</th>\n",
       "      <th>year</th>\n",
       "    </tr>\n",
       "  </thead>\n",
       "  <tbody>\n",
       "    <tr>\n",
       "      <th>0</th>\n",
       "      <td>Mercedes</td>\n",
       "      <td>Mercedes</td>\n",
       "      <td>Тото Вольфф</td>\n",
       "      <td>Падди Лоу</td>\n",
       "      <td>300.0</td>\n",
       "      <td>1</td>\n",
       "      <td>2014</td>\n",
       "    </tr>\n",
       "    <tr>\n",
       "      <th>1</th>\n",
       "      <td>Ferrari</td>\n",
       "      <td>Ferrari</td>\n",
       "      <td>Марко Маттиаччи</td>\n",
       "      <td>Джеймс Эллисон</td>\n",
       "      <td>410.0</td>\n",
       "      <td>1</td>\n",
       "      <td>2014</td>\n",
       "    </tr>\n",
       "    <tr>\n",
       "      <th>2</th>\n",
       "      <td>Red Bull</td>\n",
       "      <td>Renault</td>\n",
       "      <td>Кристиан Хорнер</td>\n",
       "      <td>Эдриан Ньюи</td>\n",
       "      <td>425.0</td>\n",
       "      <td>1</td>\n",
       "      <td>2014</td>\n",
       "    </tr>\n",
       "    <tr>\n",
       "      <th>3</th>\n",
       "      <td>Williams</td>\n",
       "      <td>Mercedes</td>\n",
       "      <td>Клэр Уильямс</td>\n",
       "      <td>Пэт Симондс</td>\n",
       "      <td>150.0</td>\n",
       "      <td>0</td>\n",
       "      <td>2014</td>\n",
       "    </tr>\n",
       "    <tr>\n",
       "      <th>4</th>\n",
       "      <td>Force India</td>\n",
       "      <td>Mercedes</td>\n",
       "      <td>Роберт Фернли</td>\n",
       "      <td>Энди Грин</td>\n",
       "      <td>75.0</td>\n",
       "      <td>0</td>\n",
       "      <td>2014</td>\n",
       "    </tr>\n",
       "  </tbody>\n",
       "</table>\n",
       "</div>"
      ],
      "text/plain": [
       "          team    engine      team_leader technical_director  budget  \\\n",
       "0     Mercedes  Mercedes      Тото Вольфф          Падди Лоу   300.0   \n",
       "1      Ferrari   Ferrari  Марко Маттиаччи     Джеймс Эллисон   410.0   \n",
       "2     Red Bull   Renault  Кристиан Хорнер        Эдриан Ньюи   425.0   \n",
       "3     Williams  Mercedes     Клэр Уильямс        Пэт Симондс   150.0   \n",
       "4  Force India  Mercedes    Роберт Фернли          Энди Грин    75.0   \n",
       "\n",
       "   is_factory_team  year  \n",
       "0                1  2014  \n",
       "1                1  2014  \n",
       "2                1  2014  \n",
       "3                0  2014  \n",
       "4                0  2014  "
      ]
     },
     "execution_count": 321,
     "metadata": {},
     "output_type": "execute_result"
    }
   ],
   "source": [
    "df_teams.head()"
   ]
  },
  {
   "cell_type": "markdown",
   "metadata": {},
   "source": [
    "Здесь с данными все впорядке, никаких пропусков нету."
   ]
  },
  {
   "cell_type": "markdown",
   "metadata": {},
   "source": [
    "### Для того, чтобы работать с этими датасетами дальше надо объединить тестовый и гоночный датасеты с данными о командах, но для начала надо провести небольшое исследование этих датасетов и сделать нормализацию некоторых данных"
   ]
  },
  {
   "cell_type": "markdown",
   "metadata": {},
   "source": [
    "#### Проверим датасеты на наличие дублей и опечаток:"
   ]
  },
  {
   "cell_type": "code",
   "execution_count": 322,
   "metadata": {},
   "outputs": [
    {
     "name": "stdout",
     "output_type": "stream",
     "text": [
      "Названия команд в тестовом датасете:\n",
      "['Ferrari' 'Mercedes' 'Williams' 'Force India' 'Toro Rosso' 'Sauber'\n",
      " 'Caterham' 'Red Bull' 'McLaren' 'Marussia' 'Lotus' 'Manor' 'Haas']\n",
      "\n",
      "Названия команд в гоночном датасете:\n",
      "['Mercedes' 'McLaren' 'Ferrari' 'Williams' 'Force India' 'Toro Rosso'\n",
      " 'Sauber' 'Marussia' 'Lotus' 'Caterham' 'Red Bull' 'Red Bull Racing'\n",
      " 'Williams/Mercedes' 'Sauber/Ferrari' 'Red Bull/Renault'\n",
      " 'Force India/Mercedes' 'Toro Rosso/Renault' 'McLaren/Honda' 'Manor'\n",
      " 'МсLaren' 'Haas' 'Renault']\n"
     ]
    }
   ],
   "source": [
    "# Команды\n",
    "print('Названия команд в тестовом датасете:')\n",
    "print(df_testing.team.unique())\n",
    "print()\n",
    "print('Названия команд в гоночном датасете:')\n",
    "print(df_racing.team.unique())"
   ]
  },
  {
   "cell_type": "markdown",
   "metadata": {},
   "source": [
    "#### Как видно, в гоночном датасете есть неучтенные при построении датасета дубли команд, исправим этот момент:"
   ]
  },
  {
   "cell_type": "code",
   "execution_count": 323,
   "metadata": {},
   "outputs": [],
   "source": [
    "TEAMS_MAPPING = {\n",
    "    'Red Bull Racing': 'Red Bull',\n",
    "    'Red Bull/Renault': 'Red Bull',\n",
    "    'Williams/Mercedes': 'Williams',\n",
    "    'Sauber/Ferrari': 'Sauber',\n",
    "    'Force India/Mercedes': 'Force India',\n",
    "    'Toro Rosso/Renault': 'Toro Rosso',\n",
    "    'McLaren/Honda': 'McLaren',\n",
    "    'МсLaren': 'McLaren',\n",
    "}\n",
    "\n",
    "\n",
    "def fix_team_name(name):\n",
    "    if name in TEAMS_MAPPING:\n",
    "        return TEAMS_MAPPING[name]\n",
    "    return name"
   ]
  },
  {
   "cell_type": "code",
   "execution_count": 324,
   "metadata": {},
   "outputs": [
    {
     "data": {
      "text/plain": [
       "array(['Mercedes', 'McLaren', 'Ferrari', 'Williams', 'Force India',\n",
       "       'Toro Rosso', 'Sauber', 'Marussia', 'Lotus', 'Caterham', 'Red Bull',\n",
       "       'Manor', 'Haas', 'Renault'], dtype=object)"
      ]
     },
     "execution_count": 324,
     "metadata": {},
     "output_type": "execute_result"
    }
   ],
   "source": [
    "df_racing.team = df_racing.team.apply(fix_team_name)\n",
    "df_racing.team.unique()"
   ]
  },
  {
   "cell_type": "code",
   "execution_count": 325,
   "metadata": {},
   "outputs": [
    {
     "name": "stdout",
     "output_type": "stream",
     "text": [
      "Названия трасс в тестовом датасете:\n",
      "['Херес' 'Бахрейн' 'Барселона']\n",
      "\n",
      "Названия трасс в гоночном датасете:\n",
      "['Мельбурн' 'Сепанг' 'Сахир' 'Шанхай' 'Барселона' 'Монте-Карло' 'Монреаль'\n",
      " 'Шпильберг' 'Сильверстоун' 'Хоккенхайм' 'Будапешт' 'Спа' 'Монца'\n",
      " 'Сингапур' 'Сузука' 'Сочи' 'Остин' 'Сан-Паулу' 'Яс-Марина' 'Мехико' 'Баку'\n",
      " 'Альберт-парк' 'Хунгароринг' 'Марина-Бей']\n"
     ]
    }
   ],
   "source": [
    "# Трассы\n",
    "print('Названия трасс в тестовом датасете:')\n",
    "print(df_testing.track.unique())\n",
    "print()\n",
    "print('Названия трасс в гоночном датасете:')\n",
    "print(df_racing.track.unique())"
   ]
  },
  {
   "cell_type": "markdown",
   "metadata": {},
   "source": [
    "#### Опять есть проблемы с тестовым датасетом, а именно дублирование трасс под разными именами, исправим эту ситуацию:"
   ]
  },
  {
   "cell_type": "code",
   "execution_count": 326,
   "metadata": {
    "collapsed": true
   },
   "outputs": [],
   "source": [
    "TRACKS_MAPPING = {\n",
    "    'Марина-Бей': 'Сингапур',\n",
    "    'Альберт-парк': 'Мельбурн',\n",
    "}\n",
    "\n",
    "\n",
    "def fix_track_name(name):\n",
    "    if name in TRACKS_MAPPING:\n",
    "        return TRACKS_MAPPING[name]\n",
    "    return name"
   ]
  },
  {
   "cell_type": "code",
   "execution_count": 327,
   "metadata": {},
   "outputs": [
    {
     "data": {
      "text/plain": [
       "array(['Мельбурн', 'Сепанг', 'Сахир', 'Шанхай', 'Барселона', 'Монте-Карло',\n",
       "       'Монреаль', 'Шпильберг', 'Сильверстоун', 'Хоккенхайм', 'Будапешт',\n",
       "       'Спа', 'Монца', 'Сингапур', 'Сузука', 'Сочи', 'Остин', 'Сан-Паулу',\n",
       "       'Яс-Марина', 'Мехико', 'Баку', 'Хунгароринг'], dtype=object)"
      ]
     },
     "execution_count": 327,
     "metadata": {},
     "output_type": "execute_result"
    }
   ],
   "source": [
    "df_racing.track = df_racing.track.apply(fix_track_name)\n",
    "df_racing.track.unique()"
   ]
  },
  {
   "cell_type": "code",
   "execution_count": 328,
   "metadata": {
    "scrolled": true
   },
   "outputs": [
    {
     "name": "stdout",
     "output_type": "stream",
     "text": [
      "Имена гонщиков в гоночном датасете:\n",
      "['Росберг' 'Магнуссен' 'Баттон' 'Алонсо' 'Боттас' 'Хюлкенберг' 'Райкконен'\n",
      " 'Вернь' 'Квят' 'Перес' 'Сутил' 'Гутьеррес' 'Чилтон' 'Бьянки' 'Грожан'\n",
      " 'Мальдонадо' 'Эриксон' 'Феттель' 'Хэмилтон' 'Масса' 'Кобаяши' 'Риккардо'\n",
      " 'Лоттерер' 'Стивенс' 'Наср' 'Сайнс' 'Ферстаппен' 'Мери' 'Росси' 'Палмер'\n",
      " 'Верляйн' 'Харьянто' 'Вандорн' 'Окон' 'Джовинацци' 'Стролл' 'ди Реста'\n",
      " 'Гасли' 'Хартли']\n"
     ]
    }
   ],
   "source": [
    "print('Имена гонщиков в гоночном датасете:')\n",
    "print(df_racing.driver.unique())"
   ]
  },
  {
   "cell_type": "markdown",
   "metadata": {},
   "source": [
    "С гонщиками все окей!"
   ]
  },
  {
   "cell_type": "code",
   "execution_count": 329,
   "metadata": {},
   "outputs": [
    {
     "name": "stdout",
     "output_type": "stream",
     "text": [
      "['Soft' 'SuperSoft' 'Medium' 'UltraSoft' 'Wet']\n"
     ]
    }
   ],
   "source": [
    "# Типы шин в тестовом датасете\n",
    "print(df_testing[df_testing.tyres.notnull()].tyres.unique())"
   ]
  },
  {
   "cell_type": "markdown",
   "metadata": {},
   "source": [
    "#### Особо большого разброса в типах шин нет, но заменим SSoft на SuperSoft:"
   ]
  },
  {
   "cell_type": "code",
   "execution_count": 330,
   "metadata": {
    "collapsed": true
   },
   "outputs": [],
   "source": [
    "TYRES_MAPPING = {\n",
    "    'SSoft': 'SuperSoft',\n",
    "}\n",
    "\n",
    "\n",
    "def fix_tyres_type(name):\n",
    "    if name in TYRES_MAPPING:\n",
    "        return TYRES_MAPPING[name]\n",
    "    return name"
   ]
  },
  {
   "cell_type": "code",
   "execution_count": 331,
   "metadata": {},
   "outputs": [
    {
     "data": {
      "text/plain": [
       "array(['Soft', 'SuperSoft', 'Medium', 'UltraSoft', 'Wet'], dtype=object)"
      ]
     },
     "execution_count": 331,
     "metadata": {},
     "output_type": "execute_result"
    }
   ],
   "source": [
    "df_testing.tyres = df_testing.tyres.apply(fix_tyres_type)\n",
    "df_testing[df_testing.tyres.notnull()].tyres.unique()"
   ]
  },
  {
   "cell_type": "code",
   "execution_count": 332,
   "metadata": {},
   "outputs": [
    {
     "name": "stdout",
     "output_type": "stream",
     "text": [
      "['Сухо' 'Подсыхающая трасса' 'Дождь' 'Дождь в конце гонки' 'облачность'\n",
      " 'Дождь, в конце сухо']\n"
     ]
    }
   ],
   "source": [
    "# Варианты погоды на гонку\n",
    "print(df_racing.weather.unique())"
   ]
  },
  {
   "cell_type": "markdown",
   "metadata": {},
   "source": [
    "#### Немного упорядочим варианты погоды на гонку:"
   ]
  },
  {
   "cell_type": "code",
   "execution_count": 333,
   "metadata": {
    "collapsed": true
   },
   "outputs": [],
   "source": [
    "WEATHER_MAPPING = {\n",
    "    'Сухо': 'dry',\n",
    "    'Подсыхающая трасса': 'changeable',\n",
    "    'Дождь': 'wet',\n",
    "    'Дождь в конце гонки': 'changeable',\n",
    "    'облачность': 'dry',\n",
    "    'Дождь, в конце сухо': 'changeable',\n",
    "}\n",
    "\n",
    "\n",
    "def fix_weather(name):\n",
    "    if name in WEATHER_MAPPING:\n",
    "        return WEATHER_MAPPING[name]\n",
    "    return name"
   ]
  },
  {
   "cell_type": "code",
   "execution_count": 334,
   "metadata": {},
   "outputs": [
    {
     "data": {
      "text/plain": [
       "array(['dry', 'changeable', 'wet'], dtype=object)"
      ]
     },
     "execution_count": 334,
     "metadata": {},
     "output_type": "execute_result"
    }
   ],
   "source": [
    "df_racing.weather = df_racing.weather.apply(fix_weather)\n",
    "df_racing.weather.unique()"
   ]
  },
  {
   "cell_type": "markdown",
   "metadata": {},
   "source": [
    "#### Теперь можно сказать, что датасеты впорядке и можно их объединить, но есть один признак strength -  коэфициент силы команды/гонщика, базой для которого в датасете тестов является points, а для датасета гонок - average_finish_position. Для того, чтобы получить strength, надо применить нормализацию к этим признакам с помощью MinMaxScaler:"
   ]
  },
  {
   "cell_type": "code",
   "execution_count": null,
   "metadata": {
    "collapsed": true
   },
   "outputs": [],
   "source": []
  }
 ],
 "metadata": {
  "kernelspec": {
   "display_name": "Python 3",
   "language": "python",
   "name": "python3"
  },
  "language_info": {
   "codemirror_mode": {
    "name": "ipython",
    "version": 3
   },
   "file_extension": ".py",
   "mimetype": "text/x-python",
   "name": "python",
   "nbconvert_exporter": "python",
   "pygments_lexer": "ipython3",
   "version": "3.6.1"
  }
 },
 "nbformat": 4,
 "nbformat_minor": 2
}
