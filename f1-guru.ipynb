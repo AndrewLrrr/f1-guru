{
 "cells": [
  {
   "cell_type": "markdown",
   "metadata": {},
   "source": [
    "# Проект F1-guru. Предсказание результатов гонок формулы-1 с помощью методов машинного обучения."
   ]
  },
  {
   "cell_type": "markdown",
   "metadata": {},
   "source": [
    "## Цель проекта:"
   ]
  },
  {
   "cell_type": "markdown",
   "metadata": {},
   "source": [
    "Научиться предсказывать спортивные результаты с помощью методов машинного обучения на примере Формулы-1."
   ]
  },
  {
   "cell_type": "markdown",
   "metadata": {},
   "source": [
    "## Данные которые необходимо собрать, чтобы получить правильные прогнозы:"
   ]
  },
  {
   "cell_type": "markdown",
   "metadata": {},
   "source": [
    "### Для того, чтобы сделать оптимальный прогноз надо построить следующие 2 модели на основе данных из открытых источников:"
   ]
  },
  {
   "cell_type": "markdown",
   "metadata": {},
   "source": [
    "### 1. Основная модель, которая будет делать предсказания на каждую гонку чемпионата для каждого гонщика. Для этого надо проанализировать результаты гонок, чтобы понимать на какой трассе у кого и за счет чего может быть преимущество. Для этого выделим следующие признаки:"
   ]
  },
  {
   "cell_type": "markdown",
   "metadata": {},
   "source": [
    "1. number - Номер этапа в календаре чемпионата\n",
    "2. year - Год проведения\n",
    "3. track - Название трассы\n",
    "4. racer - Имя/фамилия гонщика\n",
    "5. <b>finish_position</b> - Позиция на финише (целевая переменная)\n",
    "6. start_position - Стартовая позиция\n",
    "7. result - Время на финише\n",
    "8. average_speed - Средняя скорость\n",
    "9. lag_from_the_leader - Отставание по средней скорости относительно лидера\n",
    "10. lag_from_the_next - Отставание по средней скорости относительно предыдущего\n",
    "11. best_lap - Лучший круг в гонке\n",
    "12. team - Название команды\n",
    "13. engine - Поставщих двигателей\n",
    "14. budget - Бюджет команды на сезон\n",
    "15. team_leader - Имя/фамилия руководителя команды\n",
    "16. technical_director - Имя/фамилия технического директора команды\n",
    "17. is_factory_team - Является ли команда официальным представителем поставщика двигателей или нет\n",
    "18. weather - Погода во время гонки (пока только 3 значения: сухо, дождь или то и другое)\n",
    "19. strength_prediction - Коэфициент силы команды, регрессия от 0 до 1 (определяется по результатам зимних тестов на первые 3 гонки и далее по количеству очков после каждого этапа в сезоне)"
   ]
  },
  {
   "cell_type": "markdown",
   "metadata": {},
   "source": [
    "### 2. Дополнительная модель, для корректного предсказания признака strength_prediction по результатам зимних тестов. Для этого выделим следующие признаки:"
   ]
  },
  {
   "cell_type": "markdown",
   "metadata": {},
   "source": [
    "1. number - Номер тестового дня в тестовом календаре\n",
    "2. year - Год проведения\n",
    "3. track - Название трассы\n",
    "4. position - Позиция по итогам тестового дня\n",
    "5. best_lap - Лучший круг в течении тестового дня\n",
    "6. total_laps - Общее количество кругов за день\n",
    "7. tire_type - Тип резины на котором был показан лучший круг\n",
    "8. team - Название команды\n",
    "9. engine - Поставщих двигателей\n",
    "10. budget - Бюджет команды на сезон\n",
    "11. team_leader - Имя/фамилия руководителя команды\n",
    "12. technical_director - Имя/фамилия технического директора команды\n",
    "13. is_factory_team - Является ли команда официальным представителем поставщика двигателей или нет\n",
    "14. <b>strength_prediction</b> - Целевая переменная (для того, чтобы отобразить соотношение силы команд за этот год, будем брать количество очков в конце сезона и нормализуем их от 0 до 1)"
   ]
  },
  {
   "cell_type": "markdown",
   "metadata": {},
   "source": [
    "## Какой объем данных необходимо собрать, чтобы получить правильные прогнозы:"
   ]
  },
  {
   "cell_type": "markdown",
   "metadata": {},
   "source": [
    "Для того, чтобы создать полноценную тренировочную модель, нам понадобятся данные за последние 4 года (с момента начала действия нового технического регламента), т.е. за 2014-2017 год."
   ]
  },
  {
   "cell_type": "markdown",
   "metadata": {},
   "source": [
    "## Откуда будем брать данные:"
   ]
  },
  {
   "cell_type": "markdown",
   "metadata": {},
   "source": [
    "### На текущий момент, существует довольно много сайтов, откуда можно брать результаты гонок:"
   ]
  },
  {
   "cell_type": "markdown",
   "metadata": {},
   "source": [
    "1. https://www.f1news.ru/ - Результаты тестов и актуальные результаты гонок\n",
    "2. https://wildsoft.motorsport.com/ - Исторические результаты гонок"
   ]
  },
  {
   "cell_type": "markdown",
   "metadata": {},
   "source": [
    "### Поставщика двигателей и позиции руководителя команды и технического директора, можно также найти на специализированных сайтах типа, а также основываясь на знаниях экспертов предметной области:"
   ]
  },
  {
   "cell_type": "markdown",
   "metadata": {},
   "source": [
    "https://www.f1news.ru/Championship/2018/drivers.shtml<br />\n",
    "https://www.f1news.ru/Championship/2017/drivers.shtml<br />\n",
    "https://www.f1news.ru/Championship/2016/drivers.shtml<br />\n",
    "https://www.f1news.ru/Championship/2015/drivers.shtml<br />\n",
    "https://www.f1news.ru/Championship/2014/drivers.shtml"
   ]
  },
  {
   "cell_type": "markdown",
   "metadata": {},
   "source": [
    "### Тип резины на котором был показан лучший круг на тестах можно найти на следующих сайтах:"
   ]
  },
  {
   "cell_type": "markdown",
   "metadata": {},
   "source": [
    "#### Для 2018 года\n",
    "https://www.f1news.ru/Championship/2018/tests/127142.shtml<br />\n",
    "https://www.f1news.ru/Championship/2018/tests/127171.shtml<br />\n",
    "https://www.f1news.ru/Championship/2018/tests/127211.shtml<br />\n",
    "https://www.f1news.ru/Championship/2018/tests/127236.shtml<br />\n",
    "https://www.f1news.ru/Championship/2018/tests/127333.shtml<br />\n",
    "https://www.f1news.ru/Championship/2018/tests/127370.shtml<br />\n",
    "https://www.f1news.ru/Championship/2018/tests/127402.shtml<br />\n",
    "https://www.f1news.ru/Championship/2018/tests/127438.shtml<br />\n",
    "\n",
    "#### Для 2017 года\n",
    "https://www.f1news.ru/Championship/2017/tests/118950.shtml<br />\n",
    "https://www.f1news.ru/Championship/2017/tests/119022.shtml<br />\n",
    "https://www.f1news.ru/Championship/2017/tests/119147.shtml<br />\n",
    "\n",
    "#### Для 2016 года\n",
    "https://www.f1news.ru/Championship/2016/tests/110193.shtml<br />\n",
    "https://www.f1news.ru/Championship/2016/tests/110425.shtml<br />\n",
    "\n",
    "#### Для сезонов 2014-2015 года нет данных по типу резины в достаточном количество, поэтому придется обойтись без этого признака...\n",
    "\n",
    "#### Для 2015 года\n",
    "https://www.f1news.ru/Championship/2015/tests/100942.shtml<br />\n",
    "https://www.f1news.ru/Championship/2015/tests/101278.shtml<br />\n",
    "https://www.f1news.ru/Championship/2015/tests/101460.shtml<br />\n",
    "\n",
    "#### Для 2014 года\n",
    "https://www.f1news.ru/Championship/2014/tests/91918.shtml<br />\n",
    "https://www.f1news.ru/Championship/2014/tests/92316.shtml<br />\n",
    "https://www.f1news.ru/Championship/2014/tests/92545.shtml<br />"
   ]
  },
  {
   "cell_type": "markdown",
   "metadata": {},
   "source": [
    "### Наиболее интересный признак - бюджет команды. Официально он нигде не публикуется, но раз в год выходят несколько статей, посвященные этому вопросу, главное, чтобы валюта совпадала:"
   ]
  },
  {
   "cell_type": "markdown",
   "metadata": {},
   "source": [
    "2014 - https://infogram.com/team-f1-2014-1g6qo2qo6n3ym78<br />\n",
    "2015 - http://autosport.com.ru/node/28591<br />\n",
    "2016 - http://autosport.com.ru/features/39209-skolko-komandy-formuly-1-potratili-v-sezone-2016<br />\n",
    "2017 - http://ean.news/2017/09/12/f1budg/<br />\n",
    "2018 - http://scuderiafans.com/budgets-for-the-formula-1-teams-in-2018-according-to-auto-bild/<br />"
   ]
  },
  {
   "cell_type": "markdown",
   "metadata": {},
   "source": [
    "### Результаты прошедших чемпионатов можно получить здесь:\n",
    "2014 - https://www.f1news.ru/Championship/2014/teampoints.shtml<br />\n",
    "2015 - https://www.f1news.ru/Championship/2015/teampoints.shtml<br />\n",
    "2016 - https://www.f1news.ru/Championship/2016/teampoints.shtml<br />\n",
    "2017 - https://www.f1news.ru/Championship/2017/teampoints.shtml"
   ]
  },
  {
   "cell_type": "markdown",
   "metadata": {
    "collapsed": true
   },
   "source": [
    "###  Является ли команда официальным представителем поставщика двигателей или нет, явно нигде не указывается (за исключением случаев, когда имя команды совпадает с названием двигателя), поэтому пусть это будет экспертное мнение:"
   ]
  },
  {
   "cell_type": "code",
   "execution_count": null,
   "metadata": {
    "collapsed": true
   },
   "outputs": [],
   "source": []
  }
 ],
 "metadata": {
  "kernelspec": {
   "display_name": "Python 3",
   "language": "python",
   "name": "python3"
  },
  "language_info": {
   "codemirror_mode": {
    "name": "ipython",
    "version": 3
   },
   "file_extension": ".py",
   "mimetype": "text/x-python",
   "name": "python",
   "nbconvert_exporter": "python",
   "pygments_lexer": "ipython3",
   "version": "3.6.1"
  }
 },
 "nbformat": 4,
 "nbformat_minor": 2
}
