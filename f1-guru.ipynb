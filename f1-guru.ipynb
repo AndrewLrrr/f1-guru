{
 "cells": [
  {
   "cell_type": "markdown",
   "metadata": {},
   "source": [
    "# Проект F1-guru. Предсказание результатов гонок формулы-1 с помощью методов машинного обучения."
   ]
  },
  {
   "cell_type": "markdown",
   "metadata": {},
   "source": [
    "## Цель проекта:"
   ]
  },
  {
   "cell_type": "markdown",
   "metadata": {},
   "source": [
    "Научиться предсказывать спортивные результаты с помощью методов машинного обучения на примере Формулы-1."
   ]
  },
  {
   "cell_type": "markdown",
   "metadata": {},
   "source": [
    "## Данные которые необходимо собрать, чтобы получить правильные прогнозы:"
   ]
  },
  {
   "cell_type": "markdown",
   "metadata": {},
   "source": [
    "### Для того, чтобы сделать оптимальный прогноз надо построить следующие 2 модели на основе данных из открытых источников:"
   ]
  },
  {
   "cell_type": "markdown",
   "metadata": {},
   "source": [
    "### 1. Основная модель, которая будет делать предсказания на каждую гонку чемпионата для каждого гонщика. Для этого надо проанализировать результаты гонок, чтобы понимать на какой трассе у кого и за счет чего может быть преимущество. Для этого выделим следующие признаки:"
   ]
  },
  {
   "cell_type": "markdown",
   "metadata": {},
   "source": [
    "1. number - Номер этапа в календаре чемпионата\n",
    "2. year - Год проведения\n",
    "3. track - Название трассы\n",
    "4. driver - Имя/фамилия гонщика\n",
    "5. <b>finish_position</b> - Позиция на финише (целевая переменная)\n",
    "6. start_position - Стартовая позиция\n",
    "8. average_speed - Средняя скорость\n",
    "9. lag_from_the_leader - Отставание по средней скорости относительно лидера\n",
    "10. lag_from_the_next - Отставание по средней скорости относительно предыдущего\n",
    "11. team - Название команды\n",
    "12. weather - Погода во время гонки (пока только 3 значения: сухо, дождь или то и другое)\n",
    "13. laps - Количество кругов\n",
    "13. engine - Поставщих двигателей\n",
    "14. budget - Бюджет команды на сезон\n",
    "15. team_leader - Руководитель команды\n",
    "16. technical_director - Технический директор команды\n",
    "17. is_factory_team - Является ли команда официальным представителем поставщика двигателей или нет\n",
    "19. strength - Коэфициент силы команды, регрессия от 0 до 1 (определяется по результатам зимних тестов на первые 3 гонки (на случай серии неудач для сильных гонщиков) и далее корректируется по средней позиции после каждого этапа в сезоне)"
   ]
  },
  {
   "cell_type": "markdown",
   "metadata": {},
   "source": [
    "### 2. Дополнительная модель, для корректного предсказания признака strength_prediction по результатам зимних тестов. Для этого выделим следующие признаки:"
   ]
  },
  {
   "cell_type": "markdown",
   "metadata": {},
   "source": [
    "1. day - Номер тестового дня в тестовом календаре\n",
    "2. year - Год проведения\n",
    "3. track - Название трассы\n",
    "4. position - Позиция по итогам тестового дня\n",
    "5. time - Лучший круг в течении тестового дня\n",
    "6. laps - Общее количество кругов за день\n",
    "7. tyres - Тип резины на котором был показан лучший круг\n",
    "8. team - Название команды\n",
    "9. engine - Поставщих двигателей\n",
    "10. budget - Бюджет команды на сезон\n",
    "11. team_leader - Имя/фамилия руководителя команды\n",
    "12. technical_director - Имя/фамилия технического директора команды\n",
    "13. is_factory_team - Является ли команда официальным представителем поставщика двигателей или нет\n",
    "14. <b>strength</b> - Целевая переменная (для того, чтобы отобразить соотношение силы команд за этот год, будем брать количество очков в конце сезона и нормализуем их от 0 до 1)"
   ]
  },
  {
   "cell_type": "markdown",
   "metadata": {},
   "source": [
    "## Какой объем данных необходимо собрать, чтобы получить правильные прогнозы:"
   ]
  },
  {
   "cell_type": "markdown",
   "metadata": {},
   "source": [
    "Для того, чтобы создать полноценную тренировочную модель, нам понадобятся данные за последние 4 года (с момента начала действия нового технического регламента), т.е. за 2014-2017 год."
   ]
  },
  {
   "cell_type": "markdown",
   "metadata": {},
   "source": [
    "## Откуда будем брать данные:"
   ]
  },
  {
   "cell_type": "markdown",
   "metadata": {},
   "source": [
    "### На текущий момент, существует довольно много сайтов, откуда можно брать результаты гонок, поэтому основное требование к источнику данных - регулярное обновление и возможность собрать как можно больше данных в автоматизированном режиме. На текущий момент, полностью удовлетворяет таким условиям сайт f1news.ru."
   ]
  },
  {
   "cell_type": "markdown",
   "metadata": {},
   "source": [
    "### Результаты гонок:"
   ]
  },
  {
   "cell_type": "markdown",
   "metadata": {},
   "source": [
    "2014 - https://www.f1news.ru/Championship/2014/<br />\n",
    "2015 - https://www.f1news.ru/Championship/2015/<br />\n",
    "2016 - https://www.f1news.ru/Championship/2016/<br />\n",
    "2017 - https://www.f1news.ru/Championship/2017/<br />\n",
    "2018 - https://www.f1news.ru/Championship/2018/<br />"
   ]
  },
  {
   "cell_type": "markdown",
   "metadata": {},
   "source": [
    "#### Также есть еще хороший сайт https://wildsoft.motorsport.com/gp.php?y=2017, но результаты там не всегда актуально обновляются, чтобы расчитывать на этот источник информации для поддержания точности модели по ходу сезона."
   ]
  },
  {
   "cell_type": "markdown",
   "metadata": {},
   "source": [
    "### Результаты тестов:"
   ]
  },
  {
   "cell_type": "markdown",
   "metadata": {},
   "source": [
    "#### Для 2018 года\n",
    "https://www.f1news.ru/Championship/2018/tests/127142.shtml<br />\n",
    "https://www.f1news.ru/Championship/2018/tests/127171.shtml<br />\n",
    "https://www.f1news.ru/Championship/2018/tests/127211.shtml<br />\n",
    "https://www.f1news.ru/Championship/2018/tests/127236.shtml<br />\n",
    "https://www.f1news.ru/Championship/2018/tests/127333.shtml<br />\n",
    "https://www.f1news.ru/Championship/2018/tests/127370.shtml<br />\n",
    "https://www.f1news.ru/Championship/2018/tests/127402.shtml<br />\n",
    "https://www.f1news.ru/Championship/2018/tests/127438.shtml<br />\n",
    "\n",
    "#### Для 2017 года\n",
    "https://www.f1news.ru/Championship/2017/tests/118950.shtml<br />\n",
    "https://www.f1news.ru/Championship/2017/tests/119022.shtml<br />\n",
    "https://www.f1news.ru/Championship/2017/tests/119147.shtml<br />\n",
    "\n",
    "#### Для 2016 года\n",
    "https://www.f1news.ru/Championship/2016/tests/110193.shtml<br />\n",
    "https://www.f1news.ru/Championship/2016/tests/110425.shtml<br />\n",
    "\n",
    "#### Для сезонов 2014-2015 и части сезона 2016 года нет данных по типу шин в достаточном количество, поэтому придется обойтись без этого признака...\n",
    "\n",
    "#### Для 2015 года\n",
    "https://www.f1news.ru/Championship/2015/tests/100942.shtml<br />\n",
    "https://www.f1news.ru/Championship/2015/tests/101278.shtml<br />\n",
    "https://www.f1news.ru/Championship/2015/tests/101460.shtml<br />\n",
    "\n",
    "#### Для 2014 года\n",
    "https://www.f1news.ru/Championship/2014/tests/91918.shtml<br />\n",
    "https://www.f1news.ru/Championship/2014/tests/92316.shtml<br />\n",
    "https://www.f1news.ru/Championship/2014/tests/92545.shtml<br />"
   ]
  },
  {
   "cell_type": "markdown",
   "metadata": {},
   "source": [
    "### Результаты прошедших чемпионатов можно получить здесь:\n",
    "2014 - https://www.f1news.ru/Championship/2014/teampoints.shtml<br />\n",
    "2015 - https://www.f1news.ru/Championship/2015/teampoints.shtml<br />\n",
    "2016 - https://www.f1news.ru/Championship/2016/teampoints.shtml<br />\n",
    "2017 - https://www.f1news.ru/Championship/2017/teampoints.shtml"
   ]
  },
  {
   "cell_type": "markdown",
   "metadata": {},
   "source": [
    "### Некоторые данные, проще всего собрать вручную, так как они, преимущественно, основываясь на знании предметной области и не содержат большой объем данных:"
   ]
  },
  {
   "cell_type": "markdown",
   "metadata": {},
   "source": [
    "1. Руководитель команды\n",
    "2. Технический директор команды\n",
    "3. Является ли команда официальным представителем поставщика двигателей\n",
    "4. Бюджет команды\n",
    "\n",
    "#### Если с первыми тремя пунктами больших проблем нет, то бюджет команды официально он нигде не публикуется, но раз в год выходят несколько статей, посвященные этому вопросу, главное, чтобы валюта совпадала:\n",
    "2014 - https://infogram.com/team-f1-2014-1g6qo2qo6n3ym78<br />\n",
    "2015 - http://autosport.com.ru/node/28591<br />\n",
    "2016 - http://autosport.com.ru/features/39209-skolko-komandy-formuly-1-potratili-v-sezone-2016<br />\n",
    "2017 - http://ean.news/2017/09/12/f1budg/<br />\n",
    "2018 - http://scuderiafans.com/budgets-for-the-formula-1-teams-in-2018-according-to-auto-bild/<br />\n",
    "\n",
    "#### Поставщика двигателей и позиции руководителя команды и технического директора, можно также найти на специализированных сайтах типа, а также основываясь на знаниях экспертов предметной области:\n",
    "https://www.f1news.ru/Championship/2018/drivers.shtml<br />\n",
    "https://www.f1news.ru/Championship/2017/drivers.shtml<br />\n",
    "https://www.f1news.ru/Championship/2016/drivers.shtml<br />\n",
    "https://www.f1news.ru/Championship/2015/drivers.shtml<br />\n",
    "https://www.f1news.ru/Championship/2014/drivers.shtml"
   ]
  },
  {
   "cell_type": "markdown",
   "metadata": {
    "collapsed": true
   },
   "source": [
    "## Сгенерируем датасеты:"
   ]
  },
  {
   "cell_type": "markdown",
   "metadata": {},
   "source": [
    "Специально для проекта была создана система, которая автоматически загрузит все необходимы данные и подготовит датасеты."
   ]
  },
  {
   "cell_type": "code",
   "execution_count": 1,
   "metadata": {
    "scrolled": true
   },
   "outputs": [
    {
     "name": "stdout",
     "output_type": "stream",
     "text": [
      "Requirement already satisfied: requests-mock in /Users/andrewlarin/anaconda2/envs/py36/lib/python3.6/site-packages\n",
      "Requirement already satisfied: requests>=1.1 in /Users/andrewlarin/anaconda2/envs/py36/lib/python3.6/site-packages (from requests-mock)\n",
      "Requirement already satisfied: six in /Users/andrewlarin/anaconda2/envs/py36/lib/python3.6/site-packages (from requests-mock)\n"
     ]
    }
   ],
   "source": [
    "# Установим дополнительные пакеты для тестирования\n",
    "!pip install requests-mock"
   ]
  },
  {
   "cell_type": "code",
   "execution_count": 2,
   "metadata": {},
   "outputs": [
    {
     "name": "stdout",
     "output_type": "stream",
     "text": [
      "python3 -m unittest discover\n",
      "....................................................................\n",
      "----------------------------------------------------------------------\n",
      "Ran 68 tests in 1.010s\n",
      "\n",
      "OK\n"
     ]
    }
   ],
   "source": [
    "# Проверим, что все работает должным образом\n",
    "!make test"
   ]
  },
  {
   "cell_type": "code",
   "execution_count": 32,
   "metadata": {
    "scrolled": false
   },
   "outputs": [
    {
     "name": "stdout",
     "output_type": "stream",
     "text": [
      "INFO:__main__:Start building data set...\n",
      "INFO:__main__:Finish building data set\n"
     ]
    }
   ],
   "source": [
    "# Запускаем генерацию датасетов\n",
    "!python3 main.py"
   ]
  },
  {
   "cell_type": "code",
   "execution_count": 4,
   "metadata": {},
   "outputs": [
    {
     "name": "stdout",
     "output_type": "stream",
     "text": [
      "Populating the interactive namespace from numpy and matplotlib\n"
     ]
    }
   ],
   "source": [
    "import pandas as pd\n",
    "import numpy as np\n",
    "from matplotlib import pyplot as plt, style\n",
    "import os\n",
    "\n",
    "style.use('ggplot')\n",
    "%pylab inline\n",
    "\n",
    "STORAGE_PATH = os.path.abspath('storage')"
   ]
  },
  {
   "cell_type": "code",
   "execution_count": 5,
   "metadata": {},
   "outputs": [
    {
     "data": {
      "text/plain": [
       "'/Users/andrewlarin/PycharmProjects/f1-guru/storage'"
      ]
     },
     "execution_count": 5,
     "metadata": {},
     "output_type": "execute_result"
    }
   ],
   "source": [
    "STORAGE_PATH"
   ]
  },
  {
   "cell_type": "markdown",
   "metadata": {},
   "source": [
    "#### Результаты тестов 2014-2017"
   ]
  },
  {
   "cell_type": "code",
   "execution_count": 6,
   "metadata": {},
   "outputs": [],
   "source": [
    "df_testing = pd.read_csv(os.path.join(STORAGE_PATH, 'testing-data-2014-2017.csv'))"
   ]
  },
  {
   "cell_type": "code",
   "execution_count": 7,
   "metadata": {},
   "outputs": [
    {
     "data": {
      "text/plain": [
       "(393, 9)"
      ]
     },
     "execution_count": 7,
     "metadata": {},
     "output_type": "execute_result"
    }
   ],
   "source": [
    "df_testing.shape"
   ]
  },
  {
   "cell_type": "code",
   "execution_count": 8,
   "metadata": {},
   "outputs": [
    {
     "name": "stdout",
     "output_type": "stream",
     "text": [
      "<class 'pandas.core.frame.DataFrame'>\n",
      "RangeIndex: 393 entries, 0 to 392\n",
      "Data columns (total 9 columns):\n",
      "day         393 non-null int64\n",
      "year        393 non-null int64\n",
      "track       393 non-null object\n",
      "position    393 non-null int64\n",
      "time        378 non-null object\n",
      "laps        393 non-null int64\n",
      "tyres       157 non-null object\n",
      "team        393 non-null object\n",
      "points      393 non-null float64\n",
      "dtypes: float64(1), int64(4), object(4)\n",
      "memory usage: 27.7+ KB\n"
     ]
    }
   ],
   "source": [
    "df_testing.info()"
   ]
  },
  {
   "cell_type": "markdown",
   "metadata": {},
   "source": [
    "#### Описание признаков:"
   ]
  },
  {
   "cell_type": "markdown",
   "metadata": {},
   "source": [
    "1. day - Номер тестового дня в тестовом календаре\n",
    "2. year - Год проведения\n",
    "3. track - Название трассы\n",
    "4. position - Позиция по итогам тестового дня\n",
    "5. time - Лучший круг в течении тестового дня\n",
    "6. laps - Общее количество кругов за день\n",
    "7. tyres - Тип резины на котором был показан лучший круг\n",
    "8. team - Название команды\n",
    "9. points -  Количество очков в чемпионате в этом сезоне"
   ]
  },
  {
   "cell_type": "code",
   "execution_count": 9,
   "metadata": {
    "scrolled": false
   },
   "outputs": [
    {
     "data": {
      "text/html": [
       "<div>\n",
       "<style>\n",
       "    .dataframe thead tr:only-child th {\n",
       "        text-align: right;\n",
       "    }\n",
       "\n",
       "    .dataframe thead th {\n",
       "        text-align: left;\n",
       "    }\n",
       "\n",
       "    .dataframe tbody tr th {\n",
       "        vertical-align: top;\n",
       "    }\n",
       "</style>\n",
       "<table border=\"1\" class=\"dataframe\">\n",
       "  <thead>\n",
       "    <tr style=\"text-align: right;\">\n",
       "      <th></th>\n",
       "      <th>day</th>\n",
       "      <th>year</th>\n",
       "      <th>track</th>\n",
       "      <th>position</th>\n",
       "      <th>time</th>\n",
       "      <th>laps</th>\n",
       "      <th>tyres</th>\n",
       "      <th>team</th>\n",
       "      <th>points</th>\n",
       "    </tr>\n",
       "  </thead>\n",
       "  <tbody>\n",
       "    <tr>\n",
       "      <th>0</th>\n",
       "      <td>1</td>\n",
       "      <td>2014</td>\n",
       "      <td>Херес</td>\n",
       "      <td>1</td>\n",
       "      <td>1.27.104</td>\n",
       "      <td>31</td>\n",
       "      <td>NaN</td>\n",
       "      <td>Ferrari</td>\n",
       "      <td>216.0</td>\n",
       "    </tr>\n",
       "    <tr>\n",
       "      <th>1</th>\n",
       "      <td>1</td>\n",
       "      <td>2014</td>\n",
       "      <td>Херес</td>\n",
       "      <td>2</td>\n",
       "      <td>1.27.820</td>\n",
       "      <td>18</td>\n",
       "      <td>NaN</td>\n",
       "      <td>Mercedes</td>\n",
       "      <td>701.0</td>\n",
       "    </tr>\n",
       "    <tr>\n",
       "      <th>2</th>\n",
       "      <td>1</td>\n",
       "      <td>2014</td>\n",
       "      <td>Херес</td>\n",
       "      <td>3</td>\n",
       "      <td>1.30.082</td>\n",
       "      <td>7</td>\n",
       "      <td>NaN</td>\n",
       "      <td>Williams</td>\n",
       "      <td>320.0</td>\n",
       "    </tr>\n",
       "    <tr>\n",
       "      <th>3</th>\n",
       "      <td>1</td>\n",
       "      <td>2014</td>\n",
       "      <td>Херес</td>\n",
       "      <td>4</td>\n",
       "      <td>1.33.161</td>\n",
       "      <td>11</td>\n",
       "      <td>NaN</td>\n",
       "      <td>Force India</td>\n",
       "      <td>155.0</td>\n",
       "    </tr>\n",
       "    <tr>\n",
       "      <th>4</th>\n",
       "      <td>1</td>\n",
       "      <td>2014</td>\n",
       "      <td>Херес</td>\n",
       "      <td>5</td>\n",
       "      <td>1.36.530</td>\n",
       "      <td>15</td>\n",
       "      <td>NaN</td>\n",
       "      <td>Toro Rosso</td>\n",
       "      <td>30.0</td>\n",
       "    </tr>\n",
       "  </tbody>\n",
       "</table>\n",
       "</div>"
      ],
      "text/plain": [
       "   day  year  track  position      time  laps tyres         team  points\n",
       "0    1  2014  Херес         1  1.27.104    31   NaN      Ferrari   216.0\n",
       "1    1  2014  Херес         2  1.27.820    18   NaN     Mercedes   701.0\n",
       "2    1  2014  Херес         3  1.30.082     7   NaN     Williams   320.0\n",
       "3    1  2014  Херес         4  1.33.161    11   NaN  Force India   155.0\n",
       "4    1  2014  Херес         5  1.36.530    15   NaN   Toro Rosso    30.0"
      ]
     },
     "execution_count": 9,
     "metadata": {},
     "output_type": "execute_result"
    }
   ],
   "source": [
    "df_testing.head()"
   ]
  },
  {
   "cell_type": "markdown",
   "metadata": {},
   "source": [
    "Как видно, у нас много пропущенных значений типа резины, а также пропущено несколько результатов."
   ]
  },
  {
   "cell_type": "markdown",
   "metadata": {},
   "source": [
    "#### Результаты гонок 2014-2017"
   ]
  },
  {
   "cell_type": "code",
   "execution_count": 40,
   "metadata": {
    "collapsed": true
   },
   "outputs": [],
   "source": [
    "df_racing = pd.read_csv(os.path.join(STORAGE_PATH, 'racing-data-2014-2017.csv'))"
   ]
  },
  {
   "cell_type": "code",
   "execution_count": 41,
   "metadata": {},
   "outputs": [
    {
     "data": {
      "text/plain": [
       "(1654, 22)"
      ]
     },
     "execution_count": 41,
     "metadata": {},
     "output_type": "execute_result"
    }
   ],
   "source": [
    "df_racing.shape"
   ]
  },
  {
   "cell_type": "code",
   "execution_count": 42,
   "metadata": {
    "scrolled": false
   },
   "outputs": [
    {
     "name": "stdout",
     "output_type": "stream",
     "text": [
      "<class 'pandas.core.frame.DataFrame'>\n",
      "RangeIndex: 1654 entries, 0 to 1653\n",
      "Data columns (total 22 columns):\n",
      "number                          1654 non-null int64\n",
      "year                            1654 non-null int64\n",
      "track                           1654 non-null object\n",
      "laps                            1654 non-null int64\n",
      "points                          1654 non-null int64\n",
      "driver                          1654 non-null object\n",
      "finish_position                 1654 non-null int64\n",
      "start_position                  1654 non-null int64\n",
      "average_finish_position         1654 non-null float64\n",
      "average_speed                   1330 non-null float64\n",
      "lag_from_the_leader             1330 non-null float64\n",
      "lag_from_the_next               1329 non-null float64\n",
      "team                            1654 non-null object\n",
      "weather                         1654 non-null object\n",
      "finish_position_prev            1648 non-null float64\n",
      "start_position_prev             1648 non-null float64\n",
      "average_finish_position_prev    1654 non-null float64\n",
      "average_speed_prev              1317 non-null float64\n",
      "lag_from_the_leader_prev        1317 non-null float64\n",
      "lag_from_the_next_prev          1316 non-null float64\n",
      "team_prev                       1648 non-null object\n",
      "weather_prev                    1648 non-null object\n",
      "dtypes: float64(10), int64(6), object(6)\n",
      "memory usage: 284.4+ KB\n"
     ]
    }
   ],
   "source": [
    "df_racing.info()"
   ]
  },
  {
   "cell_type": "markdown",
   "metadata": {},
   "source": [
    "#### Описание признаков:"
   ]
  },
  {
   "cell_type": "markdown",
   "metadata": {},
   "source": [
    "1. number - Номер этапа в календаре чемпионата\n",
    "2. year - Год проведения\n",
    "3. track - Название трассы\n",
    "4. laps - Количество кругов\n",
    "5. points - Количество очков в чемпионате после текущего этапа\n",
    "6. driver - Имя/фамилия гонщика\n",
    "7. finish_position - Позиция на финише\n",
    "8. start_position - Стартовая позици\n",
    "9. average_finish_position - Средняя позиция на финише гонки\n",
    "11. average_speed - Средняя скорость\n",
    "12. lag_from_the_leader - Отставание по средней скорости относительно лидера\n",
    "13. lag_from_the_next - Отставание по средней скорости относительно предыдущего\n",
    "14. team - Название команды\n",
    "15. weather - Погода во время гонки (пока только 3 значения: сухо, дождь или то и другое)\n",
    "17. finish_position_prev - Позиция на финише в предыдущей гонке\n",
    "18. start_position_prev - Стартовая позици в предыдущей гонке\n",
    "19. average_finish_position_prev - Средняя позиция на финише на момент предыдущей гонки\n",
    "20. average_speed_prev - Средняя скорость в предыдущей гонке\n",
    "21. lag_from_the_leader_prev - Отставание по средней скорости относительно лидера в предыдущей гонке\n",
    "22. lag_from_the_next_prev - Отставание по средней скорости относительно предыдущего в предыдущей гонке\n",
    "23. team_prev - Название команды в предыдущей гонке (актуально для первой гонки чемпионата, когда гонщики могли менять команды по сравенинию с прошлым годом)\n",
    "24. weather_prev - Погода в предыдущей гонке"
   ]
  },
  {
   "cell_type": "code",
   "execution_count": 43,
   "metadata": {
    "scrolled": false
   },
   "outputs": [
    {
     "data": {
      "text/html": [
       "<div>\n",
       "<style>\n",
       "    .dataframe thead tr:only-child th {\n",
       "        text-align: right;\n",
       "    }\n",
       "\n",
       "    .dataframe thead th {\n",
       "        text-align: left;\n",
       "    }\n",
       "\n",
       "    .dataframe tbody tr th {\n",
       "        vertical-align: top;\n",
       "    }\n",
       "</style>\n",
       "<table border=\"1\" class=\"dataframe\">\n",
       "  <thead>\n",
       "    <tr style=\"text-align: right;\">\n",
       "      <th></th>\n",
       "      <th>number</th>\n",
       "      <th>year</th>\n",
       "      <th>track</th>\n",
       "      <th>laps</th>\n",
       "      <th>points</th>\n",
       "      <th>driver</th>\n",
       "      <th>finish_position</th>\n",
       "      <th>start_position</th>\n",
       "      <th>average_finish_position</th>\n",
       "      <th>average_speed</th>\n",
       "      <th>...</th>\n",
       "      <th>team</th>\n",
       "      <th>weather</th>\n",
       "      <th>finish_position_prev</th>\n",
       "      <th>start_position_prev</th>\n",
       "      <th>average_finish_position_prev</th>\n",
       "      <th>average_speed_prev</th>\n",
       "      <th>lag_from_the_leader_prev</th>\n",
       "      <th>lag_from_the_next_prev</th>\n",
       "      <th>team_prev</th>\n",
       "      <th>weather_prev</th>\n",
       "    </tr>\n",
       "  </thead>\n",
       "  <tbody>\n",
       "    <tr>\n",
       "      <th>0</th>\n",
       "      <td>1</td>\n",
       "      <td>2014</td>\n",
       "      <td>Мельбурн</td>\n",
       "      <td>57</td>\n",
       "      <td>25</td>\n",
       "      <td>Росберг</td>\n",
       "      <td>1</td>\n",
       "      <td>3</td>\n",
       "      <td>1.0</td>\n",
       "      <td>195.058</td>\n",
       "      <td>...</td>\n",
       "      <td>Mercedes</td>\n",
       "      <td>dry</td>\n",
       "      <td>5.0</td>\n",
       "      <td>2.0</td>\n",
       "      <td>0.0</td>\n",
       "      <td>196.819</td>\n",
       "      <td>1.383</td>\n",
       "      <td>0.059</td>\n",
       "      <td>Mercedes</td>\n",
       "      <td>dry</td>\n",
       "    </tr>\n",
       "    <tr>\n",
       "      <th>1</th>\n",
       "      <td>1</td>\n",
       "      <td>2014</td>\n",
       "      <td>Мельбурн</td>\n",
       "      <td>57</td>\n",
       "      <td>18</td>\n",
       "      <td>Магнуссен</td>\n",
       "      <td>2</td>\n",
       "      <td>4</td>\n",
       "      <td>2.0</td>\n",
       "      <td>194.126</td>\n",
       "      <td>...</td>\n",
       "      <td>McLaren</td>\n",
       "      <td>dry</td>\n",
       "      <td>6.0</td>\n",
       "      <td>19.0</td>\n",
       "      <td>0.0</td>\n",
       "      <td>196.643</td>\n",
       "      <td>1.559</td>\n",
       "      <td>0.176</td>\n",
       "      <td>McLaren</td>\n",
       "      <td>dry</td>\n",
       "    </tr>\n",
       "    <tr>\n",
       "      <th>2</th>\n",
       "      <td>1</td>\n",
       "      <td>2014</td>\n",
       "      <td>Мельбурн</td>\n",
       "      <td>57</td>\n",
       "      <td>15</td>\n",
       "      <td>Баттон</td>\n",
       "      <td>3</td>\n",
       "      <td>10</td>\n",
       "      <td>3.0</td>\n",
       "      <td>194.014</td>\n",
       "      <td>...</td>\n",
       "      <td>McLaren</td>\n",
       "      <td>dry</td>\n",
       "      <td>4.0</td>\n",
       "      <td>14.0</td>\n",
       "      <td>0.0</td>\n",
       "      <td>196.878</td>\n",
       "      <td>1.324</td>\n",
       "      <td>0.652</td>\n",
       "      <td>McLaren</td>\n",
       "      <td>dry</td>\n",
       "    </tr>\n",
       "    <tr>\n",
       "      <th>3</th>\n",
       "      <td>1</td>\n",
       "      <td>2014</td>\n",
       "      <td>Мельбурн</td>\n",
       "      <td>57</td>\n",
       "      <td>12</td>\n",
       "      <td>Алонсо</td>\n",
       "      <td>4</td>\n",
       "      <td>5</td>\n",
       "      <td>4.0</td>\n",
       "      <td>193.832</td>\n",
       "      <td>...</td>\n",
       "      <td>Ferrari</td>\n",
       "      <td>dry</td>\n",
       "      <td>3.0</td>\n",
       "      <td>3.0</td>\n",
       "      <td>0.0</td>\n",
       "      <td>197.530</td>\n",
       "      <td>0.672</td>\n",
       "      <td>0.300</td>\n",
       "      <td>Ferrari</td>\n",
       "      <td>dry</td>\n",
       "    </tr>\n",
       "    <tr>\n",
       "      <th>4</th>\n",
       "      <td>1</td>\n",
       "      <td>2014</td>\n",
       "      <td>Мельбурн</td>\n",
       "      <td>57</td>\n",
       "      <td>10</td>\n",
       "      <td>Боттас</td>\n",
       "      <td>5</td>\n",
       "      <td>15</td>\n",
       "      <td>5.0</td>\n",
       "      <td>193.407</td>\n",
       "      <td>...</td>\n",
       "      <td>Williams</td>\n",
       "      <td>dry</td>\n",
       "      <td>21.0</td>\n",
       "      <td>13.0</td>\n",
       "      <td>0.0</td>\n",
       "      <td>NaN</td>\n",
       "      <td>NaN</td>\n",
       "      <td>NaN</td>\n",
       "      <td>Williams</td>\n",
       "      <td>dry</td>\n",
       "    </tr>\n",
       "  </tbody>\n",
       "</table>\n",
       "<p>5 rows × 22 columns</p>\n",
       "</div>"
      ],
      "text/plain": [
       "   number  year     track  laps  points     driver  finish_position  \\\n",
       "0       1  2014  Мельбурн    57      25    Росберг                1   \n",
       "1       1  2014  Мельбурн    57      18  Магнуссен                2   \n",
       "2       1  2014  Мельбурн    57      15     Баттон                3   \n",
       "3       1  2014  Мельбурн    57      12     Алонсо                4   \n",
       "4       1  2014  Мельбурн    57      10     Боттас                5   \n",
       "\n",
       "   start_position  average_finish_position  average_speed      ...       \\\n",
       "0               3                      1.0        195.058      ...        \n",
       "1               4                      2.0        194.126      ...        \n",
       "2              10                      3.0        194.014      ...        \n",
       "3               5                      4.0        193.832      ...        \n",
       "4              15                      5.0        193.407      ...        \n",
       "\n",
       "       team  weather finish_position_prev start_position_prev  \\\n",
       "0  Mercedes      dry                  5.0                 2.0   \n",
       "1   McLaren      dry                  6.0                19.0   \n",
       "2   McLaren      dry                  4.0                14.0   \n",
       "3   Ferrari      dry                  3.0                 3.0   \n",
       "4  Williams      dry                 21.0                13.0   \n",
       "\n",
       "   average_finish_position_prev  average_speed_prev  lag_from_the_leader_prev  \\\n",
       "0                           0.0             196.819                     1.383   \n",
       "1                           0.0             196.643                     1.559   \n",
       "2                           0.0             196.878                     1.324   \n",
       "3                           0.0             197.530                     0.672   \n",
       "4                           0.0                 NaN                       NaN   \n",
       "\n",
       "   lag_from_the_next_prev  team_prev  weather_prev  \n",
       "0                   0.059   Mercedes           dry  \n",
       "1                   0.176    McLaren           dry  \n",
       "2                   0.652    McLaren           dry  \n",
       "3                   0.300    Ferrari           dry  \n",
       "4                     NaN   Williams           dry  \n",
       "\n",
       "[5 rows x 22 columns]"
      ]
     },
     "execution_count": 43,
     "metadata": {},
     "output_type": "execute_result"
    }
   ],
   "source": [
    "df_racing.head()"
   ]
  },
  {
   "cell_type": "markdown",
   "metadata": {},
   "source": [
    "Видно, что не у всех гонщиков имеются результаты в квалификации (возможен старт с пит-лейн и прочее), а также отставания по средней скорости (что не удивительно, учитывая, что мы не считаем среднюю скорость для сошедших гонщиков)."
   ]
  },
  {
   "cell_type": "markdown",
   "metadata": {},
   "source": [
    "#### Дополнительная информация о командах 2014-2017"
   ]
  },
  {
   "cell_type": "code",
   "execution_count": 44,
   "metadata": {
    "collapsed": true
   },
   "outputs": [],
   "source": [
    "df_teams = pd.read_csv(os.path.join(STORAGE_PATH, 'team-data-2014-2017.csv'))"
   ]
  },
  {
   "cell_type": "code",
   "execution_count": 45,
   "metadata": {
    "scrolled": true
   },
   "outputs": [
    {
     "name": "stdout",
     "output_type": "stream",
     "text": [
      "<class 'pandas.core.frame.DataFrame'>\n",
      "RangeIndex: 42 entries, 0 to 41\n",
      "Data columns (total 7 columns):\n",
      "team                  42 non-null object\n",
      "engine                42 non-null object\n",
      "team_leader           42 non-null object\n",
      "technical_director    42 non-null object\n",
      "budget                42 non-null float64\n",
      "is_factory_team       42 non-null int64\n",
      "year                  42 non-null int64\n",
      "dtypes: float64(1), int64(2), object(4)\n",
      "memory usage: 2.4+ KB\n"
     ]
    }
   ],
   "source": [
    "df_teams.info()"
   ]
  },
  {
   "cell_type": "markdown",
   "metadata": {},
   "source": [
    "1. team - Название команды\n",
    "2. engine - Поставщих двигателей\n",
    "3. team_leader - Руководитель команды\n",
    "4. technical_director - Технический директор команды\n",
    "5. budget - Бюджет команды на сезон\n",
    "6. is_factory_team - Является ли команда официальным представителем поставщика двигателей или нет\n",
    "7. year - Год проведения чемпионата"
   ]
  },
  {
   "cell_type": "code",
   "execution_count": 46,
   "metadata": {},
   "outputs": [
    {
     "data": {
      "text/html": [
       "<div>\n",
       "<style>\n",
       "    .dataframe thead tr:only-child th {\n",
       "        text-align: right;\n",
       "    }\n",
       "\n",
       "    .dataframe thead th {\n",
       "        text-align: left;\n",
       "    }\n",
       "\n",
       "    .dataframe tbody tr th {\n",
       "        vertical-align: top;\n",
       "    }\n",
       "</style>\n",
       "<table border=\"1\" class=\"dataframe\">\n",
       "  <thead>\n",
       "    <tr style=\"text-align: right;\">\n",
       "      <th></th>\n",
       "      <th>team</th>\n",
       "      <th>engine</th>\n",
       "      <th>team_leader</th>\n",
       "      <th>technical_director</th>\n",
       "      <th>budget</th>\n",
       "      <th>is_factory_team</th>\n",
       "      <th>year</th>\n",
       "    </tr>\n",
       "  </thead>\n",
       "  <tbody>\n",
       "    <tr>\n",
       "      <th>0</th>\n",
       "      <td>Mercedes</td>\n",
       "      <td>Mercedes</td>\n",
       "      <td>Тото Вольфф</td>\n",
       "      <td>Падди Лоу</td>\n",
       "      <td>300.0</td>\n",
       "      <td>1</td>\n",
       "      <td>2014</td>\n",
       "    </tr>\n",
       "    <tr>\n",
       "      <th>1</th>\n",
       "      <td>Ferrari</td>\n",
       "      <td>Ferrari</td>\n",
       "      <td>Марко Маттиаччи</td>\n",
       "      <td>Джеймс Эллисон</td>\n",
       "      <td>410.0</td>\n",
       "      <td>1</td>\n",
       "      <td>2014</td>\n",
       "    </tr>\n",
       "    <tr>\n",
       "      <th>2</th>\n",
       "      <td>Red Bull</td>\n",
       "      <td>Renault</td>\n",
       "      <td>Кристиан Хорнер</td>\n",
       "      <td>Эдриан Ньюи</td>\n",
       "      <td>425.0</td>\n",
       "      <td>1</td>\n",
       "      <td>2014</td>\n",
       "    </tr>\n",
       "    <tr>\n",
       "      <th>3</th>\n",
       "      <td>Williams</td>\n",
       "      <td>Mercedes</td>\n",
       "      <td>Клэр Уильямс</td>\n",
       "      <td>Пэт Симондс</td>\n",
       "      <td>150.0</td>\n",
       "      <td>0</td>\n",
       "      <td>2014</td>\n",
       "    </tr>\n",
       "    <tr>\n",
       "      <th>4</th>\n",
       "      <td>Force India</td>\n",
       "      <td>Mercedes</td>\n",
       "      <td>Роберт Фернли</td>\n",
       "      <td>Энди Грин</td>\n",
       "      <td>75.0</td>\n",
       "      <td>0</td>\n",
       "      <td>2014</td>\n",
       "    </tr>\n",
       "  </tbody>\n",
       "</table>\n",
       "</div>"
      ],
      "text/plain": [
       "          team    engine      team_leader technical_director  budget  \\\n",
       "0     Mercedes  Mercedes      Тото Вольфф          Падди Лоу   300.0   \n",
       "1      Ferrari   Ferrari  Марко Маттиаччи     Джеймс Эллисон   410.0   \n",
       "2     Red Bull   Renault  Кристиан Хорнер        Эдриан Ньюи   425.0   \n",
       "3     Williams  Mercedes     Клэр Уильямс        Пэт Симондс   150.0   \n",
       "4  Force India  Mercedes    Роберт Фернли          Энди Грин    75.0   \n",
       "\n",
       "   is_factory_team  year  \n",
       "0                1  2014  \n",
       "1                1  2014  \n",
       "2                1  2014  \n",
       "3                0  2014  \n",
       "4                0  2014  "
      ]
     },
     "execution_count": 46,
     "metadata": {},
     "output_type": "execute_result"
    }
   ],
   "source": [
    "df_teams.head()"
   ]
  },
  {
   "cell_type": "markdown",
   "metadata": {},
   "source": [
    "Здесь с данными все впорядке, никаких пропусков нету."
   ]
  },
  {
   "cell_type": "markdown",
   "metadata": {},
   "source": [
    "### Для того, чтобы работать с этими датасетами дальше надо объединить тестовый и гоночный датасеты с данными о командах, но для начала надо провести небольшое исследование этих датасетов и сделать нормализацию некоторых данных"
   ]
  },
  {
   "cell_type": "markdown",
   "metadata": {},
   "source": [
    "#### Проверим датасеты на наличие дублей и опечаток:"
   ]
  },
  {
   "cell_type": "code",
   "execution_count": 47,
   "metadata": {
    "scrolled": false
   },
   "outputs": [
    {
     "name": "stdout",
     "output_type": "stream",
     "text": [
      "Названия команд в тестовом датасете:\n",
      "['Caterham', 'Ferrari', 'Force India', 'Haas', 'Lotus', 'Manor', 'Marussia', 'McLaren', 'Mercedes', 'Red Bull', 'Renault', 'Sauber', 'Toro Rosso', 'Williams']\n",
      "\n",
      "Названия команд в гоночном датасете:\n",
      "['Caterham', 'Ferrari', 'Force India', 'Haas', 'Lotus', 'Manor', 'Marussia', 'McLaren', 'Mercedes', 'Red Bull', 'Renault', 'Sauber', 'Toro Rosso', 'Williams']\n",
      "\n",
      "Названия команд в дополнительном датасете:\n",
      "['Caterham', 'Ferrari', 'Force India', 'Haas', 'Lotus', 'Manor', 'Marussia', 'McLaren', 'Mercedes', 'Red Bull', 'Renault', 'Sauber', 'Toro Rosso', 'Williams']\n"
     ]
    }
   ],
   "source": [
    "# Команды\n",
    "print('Названия команд в тестовом датасете:')\n",
    "print(sorted(df_testing.team.unique()))\n",
    "print()\n",
    "print('Названия команд в гоночном датасете:')\n",
    "print(sorted(df_racing.team.unique()))\n",
    "print()\n",
    "print('Названия команд в дополнительном датасете:')\n",
    "print(sorted(df_teams.team.unique()))"
   ]
  },
  {
   "cell_type": "markdown",
   "metadata": {},
   "source": [
    "Как видно, с командами все хорошо, они совпадают во всех датасетах."
   ]
  },
  {
   "cell_type": "code",
   "execution_count": 48,
   "metadata": {},
   "outputs": [
    {
     "name": "stdout",
     "output_type": "stream",
     "text": [
      "Названия трасс в тестовом датасете:\n",
      "['Барселона', 'Бахрейн', 'Херес']\n",
      "\n",
      "Названия трасс в гоночном датасете:\n",
      "['Баку', 'Барселона', 'Будапешт', 'Мельбурн', 'Мехико', 'Монреаль', 'Монте-Карло', 'Монца', 'Остин', 'Сан-Паулу', 'Сахир', 'Сепанг', 'Сильверстоун', 'Сингапур', 'Сочи', 'Спа', 'Сузука', 'Хоккенхайм', 'Хунгароринг', 'Шанхай', 'Шпильберг', 'Яс-Марина']\n"
     ]
    }
   ],
   "source": [
    "# Трассы\n",
    "print('Названия трасс в тестовом датасете:')\n",
    "print(sorted(df_testing.track.unique()))\n",
    "print()\n",
    "print('Названия трасс в гоночном датасете:')\n",
    "print(sorted(df_racing.track.unique()))"
   ]
  },
  {
   "cell_type": "markdown",
   "metadata": {},
   "source": [
    "С трассами тоже все хорошо, никаких опечаток и дублей с ними связанных нет."
   ]
  },
  {
   "cell_type": "code",
   "execution_count": 49,
   "metadata": {
    "scrolled": true
   },
   "outputs": [
    {
     "name": "stdout",
     "output_type": "stream",
     "text": [
      "Имена гонщиков в гоночном датасете:\n",
      "['Алонсо', 'Баттон', 'Боттас', 'Бьянки', 'Вандорн', 'Верляйн', 'Вернь', 'Гасли', 'Грожан', 'Гутьеррес', 'Джовинацци', 'Квят', 'Кобаяши', 'Лоттерер', 'Магнуссен', 'Мальдонадо', 'Масса', 'Мери', 'Наср', 'Окон', 'Палмер', 'Перес', 'Райкконен', 'Риккардо', 'Росберг', 'Росси', 'Сайнс', 'Стивенс', 'Стролл', 'Сутил', 'Ферстаппен', 'Феттель', 'Хартли', 'Харьянто', 'Хэмилтон', 'Хюлкенберг', 'Чилтон', 'Эриксон', 'ди Реста']\n"
     ]
    }
   ],
   "source": [
    "print('Имена гонщиков в гоночном датасете:')\n",
    "print(sorted(df_racing.driver.unique()))"
   ]
  },
  {
   "cell_type": "markdown",
   "metadata": {},
   "source": [
    "С гонщиками все окей!"
   ]
  },
  {
   "cell_type": "markdown",
   "metadata": {},
   "source": [
    "#### Теперь можно уверенно сказать, что датасеты впорядке и можно их объединить, но есть один признак strength -  коэфициент силы команды/гонщика, базой для которого в датасете тестов является points, а для датасета гонок - average_finish_position_prev, так как для следующей новой гонки будем брать результаты предыдущей. Для того, чтобы получить strength, надо применить нормализацию к этим признакам с помощью MinMaxScaler:"
   ]
  },
  {
   "cell_type": "code",
   "execution_count": 50,
   "metadata": {
    "collapsed": true
   },
   "outputs": [],
   "source": [
    "from sklearn.preprocessing import MinMaxScaler"
   ]
  },
  {
   "cell_type": "code",
   "execution_count": 51,
   "metadata": {
    "collapsed": true
   },
   "outputs": [],
   "source": [
    "df_testing['strength'] = 0.0"
   ]
  },
  {
   "cell_type": "code",
   "execution_count": 52,
   "metadata": {},
   "outputs": [],
   "source": [
    "for year in df_testing.year.unique():\n",
    "    scaler = MinMaxScaler()\n",
    "    scaled = scaler.fit_transform(df_testing['points'][df_testing.year == year].values.reshape(-1, 1))\n",
    "    df_testing.loc[df_testing.year == year, 'strength'] = scaled"
   ]
  },
  {
   "cell_type": "code",
   "execution_count": 53,
   "metadata": {
    "scrolled": true
   },
   "outputs": [
    {
     "data": {
      "text/html": [
       "<div>\n",
       "<style>\n",
       "    .dataframe thead tr:only-child th {\n",
       "        text-align: right;\n",
       "    }\n",
       "\n",
       "    .dataframe thead th {\n",
       "        text-align: left;\n",
       "    }\n",
       "\n",
       "    .dataframe tbody tr th {\n",
       "        vertical-align: top;\n",
       "    }\n",
       "</style>\n",
       "<table border=\"1\" class=\"dataframe\">\n",
       "  <thead>\n",
       "    <tr style=\"text-align: right;\">\n",
       "      <th></th>\n",
       "      <th>day</th>\n",
       "      <th>year</th>\n",
       "      <th>track</th>\n",
       "      <th>position</th>\n",
       "      <th>time</th>\n",
       "      <th>laps</th>\n",
       "      <th>tyres</th>\n",
       "      <th>team</th>\n",
       "      <th>points</th>\n",
       "      <th>strength</th>\n",
       "    </tr>\n",
       "  </thead>\n",
       "  <tbody>\n",
       "    <tr>\n",
       "      <th>0</th>\n",
       "      <td>1</td>\n",
       "      <td>2014</td>\n",
       "      <td>Херес</td>\n",
       "      <td>1</td>\n",
       "      <td>1.27.104</td>\n",
       "      <td>31</td>\n",
       "      <td>NaN</td>\n",
       "      <td>Ferrari</td>\n",
       "      <td>216.0</td>\n",
       "      <td>0.308131</td>\n",
       "    </tr>\n",
       "    <tr>\n",
       "      <th>1</th>\n",
       "      <td>1</td>\n",
       "      <td>2014</td>\n",
       "      <td>Херес</td>\n",
       "      <td>2</td>\n",
       "      <td>1.27.820</td>\n",
       "      <td>18</td>\n",
       "      <td>NaN</td>\n",
       "      <td>Mercedes</td>\n",
       "      <td>701.0</td>\n",
       "      <td>1.000000</td>\n",
       "    </tr>\n",
       "    <tr>\n",
       "      <th>2</th>\n",
       "      <td>1</td>\n",
       "      <td>2014</td>\n",
       "      <td>Херес</td>\n",
       "      <td>3</td>\n",
       "      <td>1.30.082</td>\n",
       "      <td>7</td>\n",
       "      <td>NaN</td>\n",
       "      <td>Williams</td>\n",
       "      <td>320.0</td>\n",
       "      <td>0.456491</td>\n",
       "    </tr>\n",
       "    <tr>\n",
       "      <th>3</th>\n",
       "      <td>1</td>\n",
       "      <td>2014</td>\n",
       "      <td>Херес</td>\n",
       "      <td>4</td>\n",
       "      <td>1.33.161</td>\n",
       "      <td>11</td>\n",
       "      <td>NaN</td>\n",
       "      <td>Force India</td>\n",
       "      <td>155.0</td>\n",
       "      <td>0.221113</td>\n",
       "    </tr>\n",
       "    <tr>\n",
       "      <th>4</th>\n",
       "      <td>1</td>\n",
       "      <td>2014</td>\n",
       "      <td>Херес</td>\n",
       "      <td>5</td>\n",
       "      <td>1.36.530</td>\n",
       "      <td>15</td>\n",
       "      <td>NaN</td>\n",
       "      <td>Toro Rosso</td>\n",
       "      <td>30.0</td>\n",
       "      <td>0.042796</td>\n",
       "    </tr>\n",
       "  </tbody>\n",
       "</table>\n",
       "</div>"
      ],
      "text/plain": [
       "   day  year  track  position      time  laps tyres         team  points  \\\n",
       "0    1  2014  Херес         1  1.27.104    31   NaN      Ferrari   216.0   \n",
       "1    1  2014  Херес         2  1.27.820    18   NaN     Mercedes   701.0   \n",
       "2    1  2014  Херес         3  1.30.082     7   NaN     Williams   320.0   \n",
       "3    1  2014  Херес         4  1.33.161    11   NaN  Force India   155.0   \n",
       "4    1  2014  Херес         5  1.36.530    15   NaN   Toro Rosso    30.0   \n",
       "\n",
       "   strength  \n",
       "0  0.308131  \n",
       "1  1.000000  \n",
       "2  0.456491  \n",
       "3  0.221113  \n",
       "4  0.042796  "
      ]
     },
     "execution_count": 53,
     "metadata": {},
     "output_type": "execute_result"
    }
   ],
   "source": [
    "df_testing.head()"
   ]
  },
  {
   "cell_type": "code",
   "execution_count": 54,
   "metadata": {},
   "outputs": [],
   "source": [
    "df_racing['strength'] = 0.0"
   ]
  },
  {
   "cell_type": "code",
   "execution_count": 55,
   "metadata": {},
   "outputs": [],
   "source": [
    "for year in df_racing.year.unique():\n",
    "    for num in df_racing[df_racing.year == year].number.unique():\n",
    "        scaler = MinMaxScaler()\n",
    "        scaled = scaler.fit_transform(\n",
    "            df_racing['average_finish_position_prev'][(df_racing.year == year) & (df_racing.number == num)] \\\n",
    "                .values.reshape(-1, 1)\n",
    "        )\n",
    "        df_racing.loc[(df_racing.year == year) & (df_racing.number == num), 'strength'] = 1 - scaled"
   ]
  },
  {
   "cell_type": "code",
   "execution_count": 56,
   "metadata": {},
   "outputs": [
    {
     "data": {
      "text/html": [
       "<div>\n",
       "<style>\n",
       "    .dataframe thead tr:only-child th {\n",
       "        text-align: right;\n",
       "    }\n",
       "\n",
       "    .dataframe thead th {\n",
       "        text-align: left;\n",
       "    }\n",
       "\n",
       "    .dataframe tbody tr th {\n",
       "        vertical-align: top;\n",
       "    }\n",
       "</style>\n",
       "<table border=\"1\" class=\"dataframe\">\n",
       "  <thead>\n",
       "    <tr style=\"text-align: right;\">\n",
       "      <th></th>\n",
       "      <th>number</th>\n",
       "      <th>year</th>\n",
       "      <th>track</th>\n",
       "      <th>laps</th>\n",
       "      <th>points</th>\n",
       "      <th>driver</th>\n",
       "      <th>finish_position</th>\n",
       "      <th>start_position</th>\n",
       "      <th>average_finish_position</th>\n",
       "      <th>average_speed</th>\n",
       "      <th>...</th>\n",
       "      <th>weather</th>\n",
       "      <th>finish_position_prev</th>\n",
       "      <th>start_position_prev</th>\n",
       "      <th>average_finish_position_prev</th>\n",
       "      <th>average_speed_prev</th>\n",
       "      <th>lag_from_the_leader_prev</th>\n",
       "      <th>lag_from_the_next_prev</th>\n",
       "      <th>team_prev</th>\n",
       "      <th>weather_prev</th>\n",
       "      <th>strength</th>\n",
       "    </tr>\n",
       "  </thead>\n",
       "  <tbody>\n",
       "    <tr>\n",
       "      <th>0</th>\n",
       "      <td>1</td>\n",
       "      <td>2014</td>\n",
       "      <td>Мельбурн</td>\n",
       "      <td>57</td>\n",
       "      <td>25</td>\n",
       "      <td>Росберг</td>\n",
       "      <td>1</td>\n",
       "      <td>3</td>\n",
       "      <td>1.0</td>\n",
       "      <td>195.058</td>\n",
       "      <td>...</td>\n",
       "      <td>dry</td>\n",
       "      <td>5.0</td>\n",
       "      <td>2.0</td>\n",
       "      <td>0.0</td>\n",
       "      <td>196.819</td>\n",
       "      <td>1.383</td>\n",
       "      <td>0.059</td>\n",
       "      <td>Mercedes</td>\n",
       "      <td>dry</td>\n",
       "      <td>1.0</td>\n",
       "    </tr>\n",
       "    <tr>\n",
       "      <th>1</th>\n",
       "      <td>1</td>\n",
       "      <td>2014</td>\n",
       "      <td>Мельбурн</td>\n",
       "      <td>57</td>\n",
       "      <td>18</td>\n",
       "      <td>Магнуссен</td>\n",
       "      <td>2</td>\n",
       "      <td>4</td>\n",
       "      <td>2.0</td>\n",
       "      <td>194.126</td>\n",
       "      <td>...</td>\n",
       "      <td>dry</td>\n",
       "      <td>6.0</td>\n",
       "      <td>19.0</td>\n",
       "      <td>0.0</td>\n",
       "      <td>196.643</td>\n",
       "      <td>1.559</td>\n",
       "      <td>0.176</td>\n",
       "      <td>McLaren</td>\n",
       "      <td>dry</td>\n",
       "      <td>1.0</td>\n",
       "    </tr>\n",
       "    <tr>\n",
       "      <th>2</th>\n",
       "      <td>1</td>\n",
       "      <td>2014</td>\n",
       "      <td>Мельбурн</td>\n",
       "      <td>57</td>\n",
       "      <td>15</td>\n",
       "      <td>Баттон</td>\n",
       "      <td>3</td>\n",
       "      <td>10</td>\n",
       "      <td>3.0</td>\n",
       "      <td>194.014</td>\n",
       "      <td>...</td>\n",
       "      <td>dry</td>\n",
       "      <td>4.0</td>\n",
       "      <td>14.0</td>\n",
       "      <td>0.0</td>\n",
       "      <td>196.878</td>\n",
       "      <td>1.324</td>\n",
       "      <td>0.652</td>\n",
       "      <td>McLaren</td>\n",
       "      <td>dry</td>\n",
       "      <td>1.0</td>\n",
       "    </tr>\n",
       "    <tr>\n",
       "      <th>3</th>\n",
       "      <td>1</td>\n",
       "      <td>2014</td>\n",
       "      <td>Мельбурн</td>\n",
       "      <td>57</td>\n",
       "      <td>12</td>\n",
       "      <td>Алонсо</td>\n",
       "      <td>4</td>\n",
       "      <td>5</td>\n",
       "      <td>4.0</td>\n",
       "      <td>193.832</td>\n",
       "      <td>...</td>\n",
       "      <td>dry</td>\n",
       "      <td>3.0</td>\n",
       "      <td>3.0</td>\n",
       "      <td>0.0</td>\n",
       "      <td>197.530</td>\n",
       "      <td>0.672</td>\n",
       "      <td>0.300</td>\n",
       "      <td>Ferrari</td>\n",
       "      <td>dry</td>\n",
       "      <td>1.0</td>\n",
       "    </tr>\n",
       "    <tr>\n",
       "      <th>4</th>\n",
       "      <td>1</td>\n",
       "      <td>2014</td>\n",
       "      <td>Мельбурн</td>\n",
       "      <td>57</td>\n",
       "      <td>10</td>\n",
       "      <td>Боттас</td>\n",
       "      <td>5</td>\n",
       "      <td>15</td>\n",
       "      <td>5.0</td>\n",
       "      <td>193.407</td>\n",
       "      <td>...</td>\n",
       "      <td>dry</td>\n",
       "      <td>21.0</td>\n",
       "      <td>13.0</td>\n",
       "      <td>0.0</td>\n",
       "      <td>NaN</td>\n",
       "      <td>NaN</td>\n",
       "      <td>NaN</td>\n",
       "      <td>Williams</td>\n",
       "      <td>dry</td>\n",
       "      <td>1.0</td>\n",
       "    </tr>\n",
       "  </tbody>\n",
       "</table>\n",
       "<p>5 rows × 23 columns</p>\n",
       "</div>"
      ],
      "text/plain": [
       "   number  year     track  laps  points     driver  finish_position  \\\n",
       "0       1  2014  Мельбурн    57      25    Росберг                1   \n",
       "1       1  2014  Мельбурн    57      18  Магнуссен                2   \n",
       "2       1  2014  Мельбурн    57      15     Баттон                3   \n",
       "3       1  2014  Мельбурн    57      12     Алонсо                4   \n",
       "4       1  2014  Мельбурн    57      10     Боттас                5   \n",
       "\n",
       "   start_position  average_finish_position  average_speed    ...     weather  \\\n",
       "0               3                      1.0        195.058    ...         dry   \n",
       "1               4                      2.0        194.126    ...         dry   \n",
       "2              10                      3.0        194.014    ...         dry   \n",
       "3               5                      4.0        193.832    ...         dry   \n",
       "4              15                      5.0        193.407    ...         dry   \n",
       "\n",
       "   finish_position_prev start_position_prev average_finish_position_prev  \\\n",
       "0                   5.0                 2.0                          0.0   \n",
       "1                   6.0                19.0                          0.0   \n",
       "2                   4.0                14.0                          0.0   \n",
       "3                   3.0                 3.0                          0.0   \n",
       "4                  21.0                13.0                          0.0   \n",
       "\n",
       "   average_speed_prev  lag_from_the_leader_prev  lag_from_the_next_prev  \\\n",
       "0             196.819                     1.383                   0.059   \n",
       "1             196.643                     1.559                   0.176   \n",
       "2             196.878                     1.324                   0.652   \n",
       "3             197.530                     0.672                   0.300   \n",
       "4                 NaN                       NaN                     NaN   \n",
       "\n",
       "   team_prev  weather_prev  strength  \n",
       "0   Mercedes           dry       1.0  \n",
       "1    McLaren           dry       1.0  \n",
       "2    McLaren           dry       1.0  \n",
       "3    Ferrari           dry       1.0  \n",
       "4   Williams           dry       1.0  \n",
       "\n",
       "[5 rows x 23 columns]"
      ]
     },
     "execution_count": 56,
     "metadata": {},
     "output_type": "execute_result"
    }
   ],
   "source": [
    "df_racing.head()"
   ]
  },
  {
   "cell_type": "markdown",
   "metadata": {},
   "source": [
    "#### Также не будем забывать, что признак strength для гоночного датасета для первых 3-х гонок определяется по результатам тестов:"
   ]
  },
  {
   "cell_type": "code",
   "execution_count": 57,
   "metadata": {},
   "outputs": [],
   "source": [
    "for year in df_racing.year.unique():\n",
    "    for num in sorted(df_racing[df_racing.year == year].number.unique()):\n",
    "        if num > 3:\n",
    "            break\n",
    "        for team in df_testing[(df_testing.year == year)].team.unique():\n",
    "            strength = df_testing[(df_testing.year == year) & (df_testing.team == team)].strength.values[0]\n",
    "            df_racing.loc[\n",
    "                (df_racing.year == year) & (df_racing.number == num) & (df_racing.team == team),\n",
    "                'strength'\n",
    "            ] = strength"
   ]
  },
  {
   "cell_type": "code",
   "execution_count": 58,
   "metadata": {
    "scrolled": false
   },
   "outputs": [
    {
     "data": {
      "text/html": [
       "<div>\n",
       "<style>\n",
       "    .dataframe thead tr:only-child th {\n",
       "        text-align: right;\n",
       "    }\n",
       "\n",
       "    .dataframe thead th {\n",
       "        text-align: left;\n",
       "    }\n",
       "\n",
       "    .dataframe tbody tr th {\n",
       "        vertical-align: top;\n",
       "    }\n",
       "</style>\n",
       "<table border=\"1\" class=\"dataframe\">\n",
       "  <thead>\n",
       "    <tr style=\"text-align: right;\">\n",
       "      <th></th>\n",
       "      <th>number</th>\n",
       "      <th>year</th>\n",
       "      <th>track</th>\n",
       "      <th>laps</th>\n",
       "      <th>points</th>\n",
       "      <th>driver</th>\n",
       "      <th>finish_position</th>\n",
       "      <th>start_position</th>\n",
       "      <th>average_finish_position</th>\n",
       "      <th>average_speed</th>\n",
       "      <th>...</th>\n",
       "      <th>weather</th>\n",
       "      <th>finish_position_prev</th>\n",
       "      <th>start_position_prev</th>\n",
       "      <th>average_finish_position_prev</th>\n",
       "      <th>average_speed_prev</th>\n",
       "      <th>lag_from_the_leader_prev</th>\n",
       "      <th>lag_from_the_next_prev</th>\n",
       "      <th>team_prev</th>\n",
       "      <th>weather_prev</th>\n",
       "      <th>strength</th>\n",
       "    </tr>\n",
       "  </thead>\n",
       "  <tbody>\n",
       "    <tr>\n",
       "      <th>0</th>\n",
       "      <td>1</td>\n",
       "      <td>2014</td>\n",
       "      <td>Мельбурн</td>\n",
       "      <td>57</td>\n",
       "      <td>25</td>\n",
       "      <td>Росберг</td>\n",
       "      <td>1</td>\n",
       "      <td>3</td>\n",
       "      <td>1.0</td>\n",
       "      <td>195.058</td>\n",
       "      <td>...</td>\n",
       "      <td>dry</td>\n",
       "      <td>5.0</td>\n",
       "      <td>2.0</td>\n",
       "      <td>0.0</td>\n",
       "      <td>196.819</td>\n",
       "      <td>1.383</td>\n",
       "      <td>0.059</td>\n",
       "      <td>Mercedes</td>\n",
       "      <td>dry</td>\n",
       "      <td>1.000000</td>\n",
       "    </tr>\n",
       "    <tr>\n",
       "      <th>1</th>\n",
       "      <td>1</td>\n",
       "      <td>2014</td>\n",
       "      <td>Мельбурн</td>\n",
       "      <td>57</td>\n",
       "      <td>18</td>\n",
       "      <td>Магнуссен</td>\n",
       "      <td>2</td>\n",
       "      <td>4</td>\n",
       "      <td>2.0</td>\n",
       "      <td>194.126</td>\n",
       "      <td>...</td>\n",
       "      <td>dry</td>\n",
       "      <td>6.0</td>\n",
       "      <td>19.0</td>\n",
       "      <td>0.0</td>\n",
       "      <td>196.643</td>\n",
       "      <td>1.559</td>\n",
       "      <td>0.176</td>\n",
       "      <td>McLaren</td>\n",
       "      <td>dry</td>\n",
       "      <td>0.258203</td>\n",
       "    </tr>\n",
       "    <tr>\n",
       "      <th>2</th>\n",
       "      <td>1</td>\n",
       "      <td>2014</td>\n",
       "      <td>Мельбурн</td>\n",
       "      <td>57</td>\n",
       "      <td>15</td>\n",
       "      <td>Баттон</td>\n",
       "      <td>3</td>\n",
       "      <td>10</td>\n",
       "      <td>3.0</td>\n",
       "      <td>194.014</td>\n",
       "      <td>...</td>\n",
       "      <td>dry</td>\n",
       "      <td>4.0</td>\n",
       "      <td>14.0</td>\n",
       "      <td>0.0</td>\n",
       "      <td>196.878</td>\n",
       "      <td>1.324</td>\n",
       "      <td>0.652</td>\n",
       "      <td>McLaren</td>\n",
       "      <td>dry</td>\n",
       "      <td>0.258203</td>\n",
       "    </tr>\n",
       "    <tr>\n",
       "      <th>3</th>\n",
       "      <td>1</td>\n",
       "      <td>2014</td>\n",
       "      <td>Мельбурн</td>\n",
       "      <td>57</td>\n",
       "      <td>12</td>\n",
       "      <td>Алонсо</td>\n",
       "      <td>4</td>\n",
       "      <td>5</td>\n",
       "      <td>4.0</td>\n",
       "      <td>193.832</td>\n",
       "      <td>...</td>\n",
       "      <td>dry</td>\n",
       "      <td>3.0</td>\n",
       "      <td>3.0</td>\n",
       "      <td>0.0</td>\n",
       "      <td>197.530</td>\n",
       "      <td>0.672</td>\n",
       "      <td>0.300</td>\n",
       "      <td>Ferrari</td>\n",
       "      <td>dry</td>\n",
       "      <td>0.308131</td>\n",
       "    </tr>\n",
       "    <tr>\n",
       "      <th>4</th>\n",
       "      <td>1</td>\n",
       "      <td>2014</td>\n",
       "      <td>Мельбурн</td>\n",
       "      <td>57</td>\n",
       "      <td>10</td>\n",
       "      <td>Боттас</td>\n",
       "      <td>5</td>\n",
       "      <td>15</td>\n",
       "      <td>5.0</td>\n",
       "      <td>193.407</td>\n",
       "      <td>...</td>\n",
       "      <td>dry</td>\n",
       "      <td>21.0</td>\n",
       "      <td>13.0</td>\n",
       "      <td>0.0</td>\n",
       "      <td>NaN</td>\n",
       "      <td>NaN</td>\n",
       "      <td>NaN</td>\n",
       "      <td>Williams</td>\n",
       "      <td>dry</td>\n",
       "      <td>0.456491</td>\n",
       "    </tr>\n",
       "  </tbody>\n",
       "</table>\n",
       "<p>5 rows × 23 columns</p>\n",
       "</div>"
      ],
      "text/plain": [
       "   number  year     track  laps  points     driver  finish_position  \\\n",
       "0       1  2014  Мельбурн    57      25    Росберг                1   \n",
       "1       1  2014  Мельбурн    57      18  Магнуссен                2   \n",
       "2       1  2014  Мельбурн    57      15     Баттон                3   \n",
       "3       1  2014  Мельбурн    57      12     Алонсо                4   \n",
       "4       1  2014  Мельбурн    57      10     Боттас                5   \n",
       "\n",
       "   start_position  average_finish_position  average_speed    ...     weather  \\\n",
       "0               3                      1.0        195.058    ...         dry   \n",
       "1               4                      2.0        194.126    ...         dry   \n",
       "2              10                      3.0        194.014    ...         dry   \n",
       "3               5                      4.0        193.832    ...         dry   \n",
       "4              15                      5.0        193.407    ...         dry   \n",
       "\n",
       "   finish_position_prev start_position_prev average_finish_position_prev  \\\n",
       "0                   5.0                 2.0                          0.0   \n",
       "1                   6.0                19.0                          0.0   \n",
       "2                   4.0                14.0                          0.0   \n",
       "3                   3.0                 3.0                          0.0   \n",
       "4                  21.0                13.0                          0.0   \n",
       "\n",
       "   average_speed_prev  lag_from_the_leader_prev  lag_from_the_next_prev  \\\n",
       "0             196.819                     1.383                   0.059   \n",
       "1             196.643                     1.559                   0.176   \n",
       "2             196.878                     1.324                   0.652   \n",
       "3             197.530                     0.672                   0.300   \n",
       "4                 NaN                       NaN                     NaN   \n",
       "\n",
       "   team_prev  weather_prev  strength  \n",
       "0   Mercedes           dry  1.000000  \n",
       "1    McLaren           dry  0.258203  \n",
       "2    McLaren           dry  0.258203  \n",
       "3    Ferrari           dry  0.308131  \n",
       "4   Williams           dry  0.456491  \n",
       "\n",
       "[5 rows x 23 columns]"
      ]
     },
     "execution_count": 58,
     "metadata": {},
     "output_type": "execute_result"
    }
   ],
   "source": [
    "df_racing.head()"
   ]
  },
  {
   "cell_type": "markdown",
   "metadata": {},
   "source": [
    "#### Теперь, когда датасеты готовы, можно провести EDA!"
   ]
  },
  {
   "cell_type": "markdown",
   "metadata": {},
   "source": [
    "## EDA:"
   ]
  },
  {
   "cell_type": "code",
   "execution_count": 59,
   "metadata": {},
   "outputs": [
    {
     "name": "stdout",
     "output_type": "stream",
     "text": [
      "<class 'pandas.core.frame.DataFrame'>\n",
      "RangeIndex: 393 entries, 0 to 392\n",
      "Data columns (total 10 columns):\n",
      "day         393 non-null int64\n",
      "year        393 non-null int64\n",
      "track       393 non-null object\n",
      "position    393 non-null int64\n",
      "time        378 non-null object\n",
      "laps        393 non-null int64\n",
      "tyres       157 non-null object\n",
      "team        393 non-null object\n",
      "points      393 non-null float64\n",
      "strength    393 non-null float64\n",
      "dtypes: float64(2), int64(4), object(4)\n",
      "memory usage: 30.8+ KB\n"
     ]
    }
   ],
   "source": [
    "df_testing.info()"
   ]
  },
  {
   "cell_type": "code",
   "execution_count": 60,
   "metadata": {},
   "outputs": [
    {
     "name": "stdout",
     "output_type": "stream",
     "text": [
      "<class 'pandas.core.frame.DataFrame'>\n",
      "RangeIndex: 1654 entries, 0 to 1653\n",
      "Data columns (total 23 columns):\n",
      "number                          1654 non-null int64\n",
      "year                            1654 non-null int64\n",
      "track                           1654 non-null object\n",
      "laps                            1654 non-null int64\n",
      "points                          1654 non-null int64\n",
      "driver                          1654 non-null object\n",
      "finish_position                 1654 non-null int64\n",
      "start_position                  1654 non-null int64\n",
      "average_finish_position         1654 non-null float64\n",
      "average_speed                   1330 non-null float64\n",
      "lag_from_the_leader             1330 non-null float64\n",
      "lag_from_the_next               1329 non-null float64\n",
      "team                            1654 non-null object\n",
      "weather                         1654 non-null object\n",
      "finish_position_prev            1648 non-null float64\n",
      "start_position_prev             1648 non-null float64\n",
      "average_finish_position_prev    1654 non-null float64\n",
      "average_speed_prev              1317 non-null float64\n",
      "lag_from_the_leader_prev        1317 non-null float64\n",
      "lag_from_the_next_prev          1316 non-null float64\n",
      "team_prev                       1648 non-null object\n",
      "weather_prev                    1648 non-null object\n",
      "strength                        1654 non-null float64\n",
      "dtypes: float64(11), int64(6), object(6)\n",
      "memory usage: 297.3+ KB\n"
     ]
    }
   ],
   "source": [
    "df_racing.info()"
   ]
  },
  {
   "cell_type": "code",
   "execution_count": 61,
   "metadata": {},
   "outputs": [
    {
     "name": "stdout",
     "output_type": "stream",
     "text": [
      "<class 'pandas.core.frame.DataFrame'>\n",
      "RangeIndex: 42 entries, 0 to 41\n",
      "Data columns (total 7 columns):\n",
      "team                  42 non-null object\n",
      "engine                42 non-null object\n",
      "team_leader           42 non-null object\n",
      "technical_director    42 non-null object\n",
      "budget                42 non-null float64\n",
      "is_factory_team       42 non-null int64\n",
      "year                  42 non-null int64\n",
      "dtypes: float64(1), int64(2), object(4)\n",
      "memory usage: 2.4+ KB\n"
     ]
    }
   ],
   "source": [
    "df_teams.info()"
   ]
  },
  {
   "cell_type": "markdown",
   "metadata": {},
   "source": [
    "Как видно, в датасетах очень много важных категориальных признаков (гонщик, команда, трасса, руководитель команды и т.д.), поэтому использовать модели основанные исключительно на методах требующих исключительно численных данных (логистическая регрессия, нейронные сети) нет особого смысла, так как переводя данные в числовой вид, мы можем получить неточную модель, которая будет считать 3 больше 1 или наоборот, а если сделать преобразование с помощью OneHotEncoder, то получится очень большая размерность. Поэтому будем строить модели на основе деревьев, а именно - случайный лес и градиентный бустинг."
   ]
  },
  {
   "cell_type": "markdown",
   "metadata": {},
   "source": [
    "Также надо понять, каким данные нам будут доступны для новых гонок:\n",
    "\n",
    "1. number - Номер этапа в календаре чемпионата\n",
    "2. year - Год проведения\n",
    "3. track - Название трассы\n",
    "4. laps - Количество кругов\n",
    "6. driver - Имя/фамилия гонщика\n",
    "14. team - Название команды\n",
    "17. finish_position_prev - Позиция на финише в предыдущей гонке\n",
    "18. start_position_prev - Стартовая позици в предыдущей гонке\n",
    "19. average_finish_position_prev - Средняя позиция на финише на момент предыдущей гонки\n",
    "20. average_speed_prev - Средняя скорость в предыдущей гонке\n",
    "21. lag_from_the_leader_prev - Отставание по средней скорости относительно лидера в предыдущей гонке\n",
    "22. lag_from_the_next_prev - Отставание по средней скорости относительно предыдущего в предыдущей гонке\n",
    "23. team_prev - Название команды в предыдущей гонке (актуально для первой гонки чемпионата, когда гонщики могли менять команды по сравенинию с прошлым годом)\n",
    "24. weather_prev - Погода в предыдущей гонке\n",
    "25. strength - Коэфициент силы команды, регрессия от 0 до 1 (определяется по результатам зимних тестов на первые 3 гонки (на случай серии неудач для сильных гонщиков) и далее корректируется по средней позиции после каждого этапа в сезоне)"
   ]
  },
  {
   "cell_type": "markdown",
   "metadata": {},
   "source": [
    "Получается, что из 23 признаков, осталось 15 с которыми мы можем стабильно работать, также можно убрать lag_from_the_leader_prev и lag_from_the_next_prev так как на мой взгляд они избыточны."
   ]
  },
  {
   "cell_type": "markdown",
   "metadata": {},
   "source": [
    "Также стоит отметить, что в тестовом датасете поиск целевой переменной strength является задачей регрессии. К счастью, случайный лес и градиентный бустинг могут справиться с этой задачей, посмотрим насколько хорошо у них это получится!"
   ]
  },
  {
   "cell_type": "markdown",
   "metadata": {},
   "source": [
    "### Объединим датасеты и удалим лишние признаки:"
   ]
  },
  {
   "cell_type": "code",
   "execution_count": null,
   "metadata": {
    "collapsed": true
   },
   "outputs": [],
   "source": []
  }
 ],
 "metadata": {
  "kernelspec": {
   "display_name": "Python 3",
   "language": "python",
   "name": "python3"
  },
  "language_info": {
   "codemirror_mode": {
    "name": "ipython",
    "version": 3
   },
   "file_extension": ".py",
   "mimetype": "text/x-python",
   "name": "python",
   "nbconvert_exporter": "python",
   "pygments_lexer": "ipython3",
   "version": "3.6.1"
  }
 },
 "nbformat": 4,
 "nbformat_minor": 2
}
